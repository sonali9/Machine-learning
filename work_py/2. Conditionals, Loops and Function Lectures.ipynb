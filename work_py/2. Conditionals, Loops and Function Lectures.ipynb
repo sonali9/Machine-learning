{
 "cells": [
  {
   "cell_type": "code",
   "execution_count": 1,
   "metadata": {},
   "outputs": [
    {
     "name": "stdout",
     "output_type": "stream",
     "text": [
      "<class 'bool'>\n"
     ]
    }
   ],
   "source": [
    "# Boolean datatype\n",
    "a = True\n",
    "b = False\n",
    "print(type(a))"
   ]
  },
  {
   "cell_type": "code",
   "execution_count": 2,
   "metadata": {},
   "outputs": [
    {
     "name": "stdout",
     "output_type": "stream",
     "text": [
      "False\n",
      "False\n",
      "True\n",
      "True\n",
      "False\n",
      "True\n"
     ]
    }
   ],
   "source": [
    "# Relational operators\n",
    "x = 10\n",
    "y = 20\n",
    "print(x > y)\n",
    "print(x >= y)\n",
    "print(x < y)\n",
    "print(x <= y)\n",
    "print(x == y)\n",
    "print(x != y)"
   ]
  },
  {
   "cell_type": "code",
   "execution_count": 3,
   "metadata": {},
   "outputs": [
    {
     "name": "stdout",
     "output_type": "stream",
     "text": [
      "False\n",
      "True\n"
     ]
    }
   ],
   "source": [
    "# Logical operators\n",
    "x = 10\n",
    "y = 20\n",
    "z = 30\n",
    "print(y < z and y < x)\n",
    "print(y < z or y < x)"
   ]
  },
  {
   "cell_type": "code",
   "execution_count": 7,
   "metadata": {},
   "outputs": [
    {
     "name": "stdout",
     "output_type": "stream",
     "text": [
      "20\n",
      "30\n"
     ]
    }
   ],
   "source": [
    "# Conditionals\n",
    "# if else\n",
    "# indentation is important\n",
    "if x > y :\n",
    "    print(x)\n",
    "else :\n",
    "    print(y)\n",
    "    print(y+10) # part of else"
   ]
  },
  {
   "cell_type": "code",
   "execution_count": 5,
   "metadata": {},
   "outputs": [
    {
     "name": "stdout",
     "output_type": "stream",
     "text": [
      "20\n",
      "30\n"
     ]
    }
   ],
   "source": [
    "if x > y :\n",
    "    print(x)\n",
    "else :\n",
    "    print(y)\n",
    "print(y+10) # outside else, not a part of else"
   ]
  },
  {
   "cell_type": "code",
   "execution_count": 8,
   "metadata": {},
   "outputs": [
    {
     "name": "stdout",
     "output_type": "stream",
     "text": [
      "30\n"
     ]
    }
   ],
   "source": [
    "if x >= y and x >= z :\n",
    "    print(x)\n",
    "elif y >= x and y >= z :\n",
    "    print(y)\n",
    "else :\n",
    "    print(z)"
   ]
  },
  {
   "cell_type": "code",
   "execution_count": 1,
   "metadata": {},
   "outputs": [
    {
     "name": "stdout",
     "output_type": "stream",
     "text": [
      "5\n",
      "1 2 3 4 5 \n",
      "Done\n"
     ]
    }
   ],
   "source": [
    "# Loops\n",
    "# while loop\n",
    "n = int(input())\n",
    "i = 1\n",
    "while i <= n :\n",
    "    print(i, end = \" \")\n",
    "    i = i + 1\n",
    "print()\n",
    "print(\"Done\")"
   ]
  },
  {
   "cell_type": "code",
   "execution_count": 2,
   "metadata": {},
   "outputs": [
    {
     "name": "stdout",
     "output_type": "stream",
     "text": [
      "7\n",
      "1 2 3 4 5 6 7 "
     ]
    }
   ],
   "source": [
    "# for loop and range\n",
    "# start is inclusive and end is not inclusive\n",
    "n = int(input())\n",
    "for i in range(1, n + 1) :\n",
    "    print(i, end = \" \")"
   ]
  },
  {
   "cell_type": "code",
   "execution_count": 3,
   "metadata": {},
   "outputs": [
    {
     "name": "stdout",
     "output_type": "stream",
     "text": [
      "4\n",
      "0 1 2 3 4 "
     ]
    }
   ],
   "source": [
    "# range starts with zero by default\n",
    "n = int(input())\n",
    "for i in range(n + 1) :\n",
    "    print(i, end = \" \")"
   ]
  },
  {
   "cell_type": "code",
   "execution_count": 4,
   "metadata": {},
   "outputs": [
    {
     "name": "stdout",
     "output_type": "stream",
     "text": [
      "4 6 8 "
     ]
    }
   ],
   "source": [
    "for i in range(4, 10, 2) : # 2 is the jump\n",
    "    print(i, end = \" \")"
   ]
  },
  {
   "cell_type": "code",
   "execution_count": 6,
   "metadata": {},
   "outputs": [
    {
     "name": "stdout",
     "output_type": "stream",
     "text": [
      "10\n",
      "Not prime\n"
     ]
    }
   ],
   "source": [
    "# prime number\n",
    "n = int(input())\n",
    "prime = True\n",
    "for i in range(2, n) :\n",
    "    if(n % i == 0):\n",
    "        prime = False\n",
    "        break\n",
    "\n",
    "if prime :\n",
    "    print(\"Prime\")\n",
    "else :\n",
    "    print(\"Not prime\")"
   ]
  },
  {
   "cell_type": "code",
   "execution_count": 8,
   "metadata": {},
   "outputs": [
    {
     "name": "stdout",
     "output_type": "stream",
     "text": [
      "a b c d \n",
      "1 efg 2.3 "
     ]
    }
   ],
   "source": [
    "# Fast iterations\n",
    "s = \"abcd\"\n",
    "for c in s :\n",
    "    print(c, end = \" \")\n",
    "\n",
    "print()\n",
    "    \n",
    "t = (1, \"efg\", 2.3)\n",
    "for x in t :\n",
    "    print(x, end = \" \")"
   ]
  },
  {
   "cell_type": "code",
   "execution_count": 10,
   "metadata": {},
   "outputs": [
    {
     "name": "stdout",
     "output_type": "stream",
     "text": [
      "30\n",
      "30\n"
     ]
    }
   ],
   "source": [
    "# Functions\n",
    "def sum(a, b) :\n",
    "    x = a + b\n",
    "    return x\n",
    "\n",
    "x = 10\n",
    "y = 20\n",
    "print(sum(x, y))\n",
    "# or\n",
    "a = sum(x, y)\n",
    "print(a)"
   ]
  },
  {
   "cell_type": "code",
   "execution_count": 12,
   "metadata": {},
   "outputs": [
    {
     "name": "stdout",
     "output_type": "stream",
     "text": [
      "10000\n",
      "100\n"
     ]
    }
   ],
   "source": [
    "# default arguments to a function\n",
    "def power(x, y = 2) :\n",
    "    return x**y\n",
    "\n",
    "a = 10\n",
    "b = 4\n",
    "print(power(a, b))\n",
    "print(power(a))"
   ]
  },
  {
   "cell_type": "code",
   "execution_count": 14,
   "metadata": {},
   "outputs": [
    {
     "name": "stdout",
     "output_type": "stream",
     "text": [
      "6\n",
      "5\n",
      "4\n",
      "24\n"
     ]
    }
   ],
   "source": [
    "def sum(x = 12, y = 1,z = 2 ) :\n",
    "    return x + y + z\n",
    "\n",
    "print(sum(1, 2, 3))\n",
    "print(sum(1, 2))\n",
    "print(sum(1))\n",
    "print(sum(y = 10)) # similar to end argument in print(i , end= \" \")"
   ]
  },
  {
   "cell_type": "code",
   "execution_count": 15,
   "metadata": {},
   "outputs": [
    {
     "name": "stdout",
     "output_type": "stream",
     "text": [
      "<class 'tuple'>\n",
      "(12, 13, 14)\n"
     ]
    },
    {
     "data": {
      "text/plain": [
       "60"
      ]
     },
     "execution_count": 15,
     "metadata": {},
     "output_type": "execute_result"
    }
   ],
   "source": [
    "# variable sized inputs and outputs\n",
    "# variable number of inputs to a function\n",
    "def sum(a, b, *more) :\n",
    "    print(type(more))\n",
    "    print(more)\n",
    "    return 10\n",
    "\n",
    "def sum_var(a, b, *more) :\n",
    "    ans = a + b\n",
    "    for i in more :\n",
    "        ans += i\n",
    "    return ans\n",
    "\n",
    "sum(10, 11, 12, 13, 14)\n",
    "sum_var(10, 11, 12, 13, 14)"
   ]
  },
  {
   "cell_type": "code",
   "execution_count": 17,
   "metadata": {},
   "outputs": [
    {
     "name": "stdout",
     "output_type": "stream",
     "text": [
      "22\n",
      "-2\n",
      "(22, -2)\n",
      "-2\n"
     ]
    }
   ],
   "source": [
    "# more than one return value\n",
    "def dummy(a,b) :\n",
    "    return a + b, a - b\n",
    "\n",
    "sum1, diff = dummy(10, 12)\n",
    "print(sum1)\n",
    "print(diff)\n",
    "a = dummy(10,12)\n",
    "print(a)\n",
    "\n",
    "diff1 = dummy(10, 12)[1]\n",
    "print(diff1)"
   ]
  }
 ],
 "metadata": {
  "kernelspec": {
   "display_name": "Python 3",
   "language": "python",
   "name": "python3"
  },
  "language_info": {
   "codemirror_mode": {
    "name": "ipython",
    "version": 3
   },
   "file_extension": ".py",
   "mimetype": "text/x-python",
   "name": "python",
   "nbconvert_exporter": "python",
   "pygments_lexer": "ipython3",
   "version": "3.6.4"
  }
 },
 "nbformat": 4,
 "nbformat_minor": 2
}
