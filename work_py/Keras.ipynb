{
 "cells": [
  {
   "cell_type": "code",
   "execution_count": 7,
   "metadata": {},
   "outputs": [],
   "source": [
    "from keras.models import Sequential\n",
    "from keras.layers import Dense"
   ]
  },
  {
   "cell_type": "code",
   "execution_count": 2,
   "metadata": {},
   "outputs": [],
   "source": [
    "model = Sequential()"
   ]
  },
  {
   "cell_type": "code",
   "execution_count": 3,
   "metadata": {},
   "outputs": [],
   "source": [
    "model.add(Dense(units=32,activation='relu',input_dim=30))\n",
    "model.add(Dense(units=16,activation='relu'))\n",
    "model.add(Dense(units=1,activation='sigmoid'))"
   ]
  },
  {
   "cell_type": "code",
   "execution_count": 4,
   "metadata": {},
   "outputs": [],
   "source": [
    "model.compile(optimizer='adam',loss='binary_crossentropy',metrics=['accuracy'])"
   ]
  },
  {
   "cell_type": "code",
   "execution_count": 5,
   "metadata": {},
   "outputs": [],
   "source": [
    "from sklearn import datasets\n",
    "from sklearn.model_selection import train_test_split\n",
    "from sklearn.preprocessing import StandardScaler\n",
    "\n",
    "cancer = datasets.load_breast_cancer()\n",
    "x_train,x_test,y_train,y_test = train_test_split(cancer.data,cancer.target,test_size=0.2,random_state=0)\n",
    "\n",
    "sc = StandardScaler()\n",
    "x_train = sc.fit_transform(x_train)\n",
    "x_test = sc.transform(x_test)"
   ]
  },
  {
   "cell_type": "code",
   "execution_count": 6,
   "metadata": {},
   "outputs": [
    {
     "name": "stdout",
     "output_type": "stream",
     "text": [
      "Train on 455 samples, validate on 114 samples\n",
      "Epoch 1/20\n",
      "455/455 [==============================] - 0s 799us/step - loss: 0.6531 - acc: 0.6220 - val_loss: 0.5823 - val_acc: 0.7368\n",
      "Epoch 2/20\n",
      "455/455 [==============================] - 0s 44us/step - loss: 0.4875 - acc: 0.8374 - val_loss: 0.4522 - val_acc: 0.8596\n",
      "Epoch 3/20\n",
      "455/455 [==============================] - 0s 44us/step - loss: 0.3840 - acc: 0.9143 - val_loss: 0.3743 - val_acc: 0.9123\n",
      "Epoch 4/20\n",
      "455/455 [==============================] - 0s 44us/step - loss: 0.3127 - acc: 0.9363 - val_loss: 0.3233 - val_acc: 0.8947\n",
      "Epoch 5/20\n",
      "455/455 [==============================] - 0s 44us/step - loss: 0.2608 - acc: 0.9363 - val_loss: 0.2879 - val_acc: 0.8947\n",
      "Epoch 6/20\n",
      "455/455 [==============================] - 0s 44us/step - loss: 0.2218 - acc: 0.9429 - val_loss: 0.2602 - val_acc: 0.9035\n",
      "Epoch 7/20\n",
      "455/455 [==============================] - 0s 44us/step - loss: 0.1920 - acc: 0.9495 - val_loss: 0.2360 - val_acc: 0.8947\n",
      "Epoch 8/20\n",
      "455/455 [==============================] - 0s 44us/step - loss: 0.1694 - acc: 0.9516 - val_loss: 0.2175 - val_acc: 0.9035\n",
      "Epoch 9/20\n",
      "455/455 [==============================] - 0s 44us/step - loss: 0.1515 - acc: 0.9538 - val_loss: 0.2024 - val_acc: 0.9123\n",
      "Epoch 10/20\n",
      "455/455 [==============================] - 0s 35us/step - loss: 0.1369 - acc: 0.9604 - val_loss: 0.1877 - val_acc: 0.9035\n",
      "Epoch 11/20\n",
      "455/455 [==============================] - 0s 44us/step - loss: 0.1243 - acc: 0.9692 - val_loss: 0.1763 - val_acc: 0.8947\n",
      "Epoch 12/20\n",
      "455/455 [==============================] - 0s 53us/step - loss: 0.1143 - acc: 0.9802 - val_loss: 0.1673 - val_acc: 0.8947\n",
      "Epoch 13/20\n",
      "455/455 [==============================] - 0s 44us/step - loss: 0.1064 - acc: 0.9802 - val_loss: 0.1593 - val_acc: 0.9123\n",
      "Epoch 14/20\n",
      "455/455 [==============================] - 0s 44us/step - loss: 0.0996 - acc: 0.9802 - val_loss: 0.1534 - val_acc: 0.9211\n",
      "Epoch 15/20\n",
      "455/455 [==============================] - 0s 44us/step - loss: 0.0936 - acc: 0.9846 - val_loss: 0.1473 - val_acc: 0.9298\n",
      "Epoch 16/20\n",
      "455/455 [==============================] - 0s 53us/step - loss: 0.0884 - acc: 0.9868 - val_loss: 0.1425 - val_acc: 0.9474\n",
      "Epoch 17/20\n",
      "455/455 [==============================] - 0s 35us/step - loss: 0.0842 - acc: 0.9868 - val_loss: 0.1380 - val_acc: 0.9474\n",
      "Epoch 18/20\n",
      "455/455 [==============================] - 0s 44us/step - loss: 0.0803 - acc: 0.9868 - val_loss: 0.1327 - val_acc: 0.9474\n",
      "Epoch 19/20\n",
      "455/455 [==============================] - 0s 53us/step - loss: 0.0770 - acc: 0.9868 - val_loss: 0.1291 - val_acc: 0.9474\n",
      "Epoch 20/20\n",
      "455/455 [==============================] - 0s 35us/step - loss: 0.0744 - acc: 0.9868 - val_loss: 0.1256 - val_acc: 0.9474\n"
     ]
    },
    {
     "data": {
      "text/plain": [
       "<keras.callbacks.History at 0x222479eb518>"
      ]
     },
     "execution_count": 6,
     "metadata": {},
     "output_type": "execute_result"
    }
   ],
   "source": [
    "model.fit(x_train, y_train, epochs=20, batch_size=50, validation_data=(x_test,y_test))"
   ]
  },
  {
   "cell_type": "code",
   "execution_count": 11,
   "metadata": {},
   "outputs": [
    {
     "name": "stdout",
     "output_type": "stream",
     "text": [
      "114/114 [==============================] - 0s 35us/step\n"
     ]
    },
    {
     "data": {
      "text/plain": [
       "[0.1255944475793002, 0.9473684220983271]"
      ]
     },
     "execution_count": 11,
     "metadata": {},
     "output_type": "execute_result"
    }
   ],
   "source": [
    "predictions = model.predict(x_test)\n",
    "score = model.evaluate(x_test,y_test)\n",
    "score"
   ]
  }
 ],
 "metadata": {
  "kernelspec": {
   "display_name": "Python 3",
   "language": "python",
   "name": "python3"
  },
  "language_info": {
   "codemirror_mode": {
    "name": "ipython",
    "version": 3
   },
   "file_extension": ".py",
   "mimetype": "text/x-python",
   "name": "python",
   "nbconvert_exporter": "python",
   "pygments_lexer": "ipython3",
   "version": "3.6.4"
  }
 },
 "nbformat": 4,
 "nbformat_minor": 2
}
