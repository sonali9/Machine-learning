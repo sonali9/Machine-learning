{
 "cells": [
  {
   "cell_type": "code",
   "execution_count": 3,
   "metadata": {},
   "outputs": [],
   "source": [
    "import numpy as np"
   ]
  },
  {
   "cell_type": "code",
   "execution_count": 4,
   "metadata": {},
   "outputs": [
    {
     "data": {
      "text/plain": [
       "(100, 2)"
      ]
     },
     "execution_count": 4,
     "metadata": {},
     "output_type": "execute_result"
    }
   ],
   "source": [
    "data = np.loadtxt(\"data.csv\",delimiter = \",\")\n",
    "data.shape"
   ]
  },
  {
   "cell_type": "code",
   "execution_count": 5,
   "metadata": {},
   "outputs": [],
   "source": [
    "def step(points, learning_rate, m, c):\n",
    "    m_slope = 0\n",
    "    c_slope = 0\n",
    "    M = len(points)\n",
    "    for i in range(M):\n",
    "        x = points[i,0]\n",
    "        y = points[i,1]\n",
    "        m_slope += (-2/M) * ((y - (m * x + c)) * x)\n",
    "        c_slope += (-2/M)  * (y - (m * x + c))\n",
    "    new_m = m - learning_rate * m_slope\n",
    "    new_c = c - learning_rate * c_slope\n",
    "    return new_m, new_c"
   ]
  },
  {
   "cell_type": "code",
   "execution_count": 6,
   "metadata": {},
   "outputs": [],
   "source": [
    "def gd(points, learning_rate, no_iteration):\n",
    "    m = 0\n",
    "    c = 0\n",
    "    for i in range(no_iteration):\n",
    "        m, c = step(points, learning_rate, m, c)\n",
    "        print(i, \"Cost : \",cost(points, m, c))\n",
    "    return m, c"
   ]
  },
  {
   "cell_type": "code",
   "execution_count": 7,
   "metadata": {},
   "outputs": [],
   "source": [
    "def cost(points, m, c):\n",
    "    total_cost = 0\n",
    "    M = len(points)\n",
    "    for i in range(M):\n",
    "        x = points[i,0]\n",
    "        y = points[i,1]\n",
    "        total_cost += (1/M) * ((y - (m * x + c)) ** 2)\n",
    "    return total_cost"
   ]
  },
  {
   "cell_type": "code",
   "execution_count": 22,
   "metadata": {},
   "outputs": [],
   "source": [
    "def run():\n",
    "    points = np.loadtxt(\"data.csv\",delimiter = \",\")\n",
    "    learning_rate = 0.0003\n",
    "    no_iteration = 100\n",
    "    m, c = gd(points, learning_rate, no_iteration)\n",
    "    print(m, c)"
   ]
  },
  {
   "cell_type": "code",
   "execution_count": 23,
   "metadata": {},
   "outputs": [
    {
     "name": "stdout",
     "output_type": "stream",
     "text": [
      "0 Cost :  1449.4706659442422\n",
      "1 Cost :  440.40873307583666\n",
      "2 Cost :  193.0093154926671\n",
      "3 Cost :  132.352449816211\n",
      "4 Cost :  117.48066610837674\n",
      "5 Cost :  113.83435677685239\n",
      "6 Cost :  112.9402817907324\n",
      "7 Cost :  112.72099289110426\n",
      "8 Cost :  112.66714639683578\n",
      "9 Cost :  112.65386267042123\n",
      "10 Cost :  112.65052402788564\n",
      "11 Cost :  112.64962370038535\n",
      "12 Cost :  112.64932119670246\n",
      "13 Cost :  112.64916526970306\n",
      "14 Cost :  112.64904528371903\n",
      "15 Cost :  112.64893411336747\n",
      "16 Cost :  112.6488251081134\n",
      "17 Cost :  112.64871663739467\n",
      "18 Cost :  112.648608301434\n",
      "19 Cost :  112.64850000221452\n",
      "20 Cost :  112.64839171570495\n",
      "21 Cost :  112.64828343601283\n",
      "22 Cost :  112.64817516169346\n",
      "23 Cost :  112.64806689239245\n",
      "24 Cost :  112.64795862802265\n",
      "25 Cost :  112.6478503685627\n",
      "26 Cost :  112.64774211400716\n",
      "27 Cost :  112.64763386435423\n",
      "28 Cost :  112.64752561960374\n",
      "29 Cost :  112.64741737975518\n",
      "30 Cost :  112.6473091448084\n",
      "31 Cost :  112.64720091476316\n",
      "32 Cost :  112.64709268961917\n",
      "33 Cost :  112.64698446937632\n",
      "34 Cost :  112.64687625403425\n",
      "35 Cost :  112.64676804359287\n",
      "36 Cost :  112.64665983805192\n",
      "37 Cost :  112.64655163741106\n",
      "38 Cost :  112.64644344167036\n",
      "39 Cost :  112.64633525082921\n",
      "40 Cost :  112.64622706488767\n",
      "41 Cost :  112.64611888384543\n",
      "42 Cost :  112.64601070770227\n",
      "43 Cost :  112.64590253645787\n",
      "44 Cost :  112.64579437011231\n",
      "45 Cost :  112.64568620866498\n",
      "46 Cost :  112.64557805211592\n",
      "47 Cost :  112.64546990046486\n",
      "48 Cost :  112.64536175371148\n",
      "49 Cost :  112.64525361185574\n",
      "50 Cost :  112.64514547489719\n",
      "51 Cost :  112.64503734283579\n",
      "52 Cost :  112.64492921567121\n",
      "53 Cost :  112.64482109340327\n",
      "54 Cost :  112.64471297603181\n",
      "55 Cost :  112.64460486355644\n",
      "56 Cost :  112.64449675597712\n",
      "57 Cost :  112.64438865329359\n",
      "58 Cost :  112.64428055550557\n",
      "59 Cost :  112.64417246261281\n",
      "60 Cost :  112.64406437461525\n",
      "61 Cost :  112.64395629151242\n",
      "62 Cost :  112.64384821330425\n",
      "63 Cost :  112.64374013999063\n",
      "64 Cost :  112.6436320715711\n",
      "65 Cost :  112.64352400804557\n",
      "66 Cost :  112.64341594941378\n",
      "67 Cost :  112.64330789567559\n",
      "68 Cost :  112.64319984683068\n",
      "69 Cost :  112.64309180287887\n",
      "70 Cost :  112.6429837638199\n",
      "71 Cost :  112.64287572965358\n",
      "72 Cost :  112.64276770037976\n",
      "73 Cost :  112.64265967599808\n",
      "74 Cost :  112.64255165650839\n",
      "75 Cost :  112.64244364191048\n",
      "76 Cost :  112.6423356322042\n",
      "77 Cost :  112.6422276273891\n",
      "78 Cost :  112.64211962746519\n",
      "79 Cost :  112.64201163243213\n",
      "80 Cost :  112.64190364228975\n",
      "81 Cost :  112.64179565703779\n",
      "82 Cost :  112.64168767667596\n",
      "83 Cost :  112.64157970120431\n",
      "84 Cost :  112.64147173062226\n",
      "85 Cost :  112.64136376492985\n",
      "86 Cost :  112.64125580412667\n",
      "87 Cost :  112.6411478482127\n",
      "88 Cost :  112.64103989718764\n",
      "89 Cost :  112.64093195105114\n",
      "90 Cost :  112.64082400980311\n",
      "91 Cost :  112.64071607344339\n",
      "92 Cost :  112.64060814197153\n",
      "93 Cost :  112.64050021538758\n",
      "94 Cost :  112.64039229369108\n",
      "95 Cost :  112.64028437688201\n",
      "96 Cost :  112.64017646495999\n",
      "97 Cost :  112.6400685579249\n",
      "98 Cost :  112.63996065577649\n",
      "99 Cost :  112.63985275851451\n",
      "1.4785668413714852 0.0470759787794631\n"
     ]
    }
   ],
   "source": [
    "run()"
   ]
  }
 ],
 "metadata": {
  "kernelspec": {
   "display_name": "Python 3",
   "language": "python",
   "name": "python3"
  },
  "language_info": {
   "codemirror_mode": {
    "name": "ipython",
    "version": 3
   },
   "file_extension": ".py",
   "mimetype": "text/x-python",
   "name": "python",
   "nbconvert_exporter": "python",
   "pygments_lexer": "ipython3",
   "version": "3.6.4"
  }
 },
 "nbformat": 4,
 "nbformat_minor": 2
}
