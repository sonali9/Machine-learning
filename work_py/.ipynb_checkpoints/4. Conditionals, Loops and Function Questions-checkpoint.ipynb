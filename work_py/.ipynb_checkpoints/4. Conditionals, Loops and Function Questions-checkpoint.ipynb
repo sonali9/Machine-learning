{
 "cells": [
  {
   "cell_type": "code",
   "execution_count": 5,
   "metadata": {},
   "outputs": [
    {
     "name": "stdout",
     "output_type": "stream",
     "text": [
      "4\n",
      "1      1\n",
      "12    21\n",
      "123  321\n",
      "12344321\n"
     ]
    }
   ],
   "source": [
    "# Pattern\n",
    "\n",
    "n = int(input())\n",
    "def pattern(n) :\n",
    "    for i in range(1, n + 1) :\n",
    "        j = 1\n",
    "        while j <=i :\n",
    "            print(j, end = \"\")\n",
    "            j +=1\n",
    "        c = j\n",
    "        \n",
    "        j = 2 * (n - i)\n",
    "        while j > 0 :\n",
    "            print(\" \",end = \"\")\n",
    "            j -= 1\n",
    "                \n",
    "        j = c - 1\n",
    "        while j > 0 :\n",
    "            print(j, end = \"\")\n",
    "            j -= 1\n",
    "            \n",
    "        i +=1\n",
    "        print()\n",
    "\n",
    "pattern(n)"
   ]
  },
  {
   "cell_type": "code",
   "execution_count": 20,
   "metadata": {},
   "outputs": [
    {
     "name": "stdout",
     "output_type": "stream",
     "text": [
      "Welcome to Coding Ninjas\n",
      "emocleW ot gnidoC sajniN \n"
     ]
    }
   ],
   "source": [
    "# Reverse every word\n",
    "\n",
    "def rev(a) :\n",
    "    b = a.strip().split(\" \")\n",
    "    p = \"\"\n",
    "    for i in b :\n",
    "        for x in range(len(i) - 1, -1, -1) :\n",
    "            p += i[x]\n",
    "        p += \" \"\n",
    "    return p\n",
    "\n",
    "n = input()\n",
    "p = rev(n)\n",
    "print(p)"
   ]
  },
  {
   "cell_type": "code",
   "execution_count": null,
   "metadata": {},
   "outputs": [],
   "source": [
    "# sum of even valued fibonacci\n",
    "\n",
    "def fib(n) :\n",
    "   \n",
    "    f1 = 0\n",
    "    f2 = 2\n",
    "    sum = 0\n",
    "    while f2 <= n :\n",
    "        sum += f2\n",
    "        t = 4 * f2 + f1\n",
    "        f1 = f2\n",
    "        f2 = t\n",
    "    return sum\n",
    "\n",
    "n = int(input())\n",
    "print(fib(n))"
   ]
  },
  {
   "cell_type": "code",
   "execution_count": 13,
   "metadata": {},
   "outputs": [
    {
     "name": "stdout",
     "output_type": "stream",
     "text": [
      "7\n",
      "1 \n",
      "3 2 \n",
      "4 5 6 \n",
      "10 9 8 7 \n",
      "11 12 13 14 15 \n",
      "21 20 19 18 17 16 \n",
      "22 23 24 25 26 27 28 \n"
     ]
    }
   ],
   "source": [
    "# pattern(reverse series pattern)\n",
    "\n",
    "def pat(n) :\n",
    "    val = 1\n",
    "    i = 1\n",
    "    while i <= n :\n",
    "        s = \"\"\n",
    "        t = \"\"\n",
    "        j = 1\n",
    "        while j <= i :\n",
    "            s += str(val) + \" \"\n",
    "            val +=1\n",
    "            j += 1\n",
    "        if i % 2 == 0 :   \n",
    "            t = rev(s)\n",
    "        else :\n",
    "            t = s\n",
    "        print(t)\n",
    "        i += 1\n",
    "        \n",
    "def rev(a) :\n",
    "    b = a.strip().split(\" \")\n",
    "    p = \"\"\n",
    "    for x in range(len(b) - 1, -1, -1) :\n",
    "        p += b[x]\n",
    "        p += \" \"\n",
    "    return p\n",
    "        \n",
    "n = int(input())\n",
    "pat(n)"
   ]
  },
  {
   "cell_type": "code",
   "execution_count": 14,
   "metadata": {},
   "outputs": [
    {
     "name": "stdout",
     "output_type": "stream",
     "text": [
      "12\n",
      "1100\n"
     ]
    }
   ],
   "source": [
    "# decimal to binary\n",
    "\n",
    "\n",
    "def d2b(n) :\n",
    "    s = 0\n",
    "    t = 0\n",
    "    a = 0\n",
    "    while n > 0 :\n",
    "        a = n % 2\n",
    "        s = pow(10, t) * a + s\n",
    "        n = n // 2\n",
    "        t += 1\n",
    "    return s\n",
    "\n",
    "def pow(n, i) :\n",
    "    s = 1\n",
    "    while i > 0 :\n",
    "        s *= n\n",
    "        i -= 1\n",
    "    return s\n",
    "\n",
    "n = int(input())\n",
    "p = d2b(n)\n",
    "print(p)"
   ]
  },
  {
   "cell_type": "code",
   "execution_count": 1,
   "metadata": {},
   "outputs": [
    {
     "name": "stdout",
     "output_type": "stream",
     "text": [
      "9\n",
      "2\n",
      "3\n",
      "5\n",
      "7\n"
     ]
    }
   ],
   "source": [
    "# all prime numbers\n",
    "\n",
    "def prime(n) :\n",
    "    i = 2\n",
    "   \n",
    "    k = True\n",
    "    while i <= n :\n",
    "        j = 2\n",
    "        while j * j <= i :\n",
    "            if i % j == 0 :\n",
    "                k = False\n",
    "                break\n",
    "            j += 1\n",
    "            k = True\n",
    "        \n",
    "        if k== True :\n",
    "            print(i)\n",
    "        i += 1\n",
    "            \n",
    "n = int(input())\n",
    "s = prime(n)\n",
    "            \n",
    "                "
   ]
  },
  {
   "cell_type": "code",
   "execution_count": 2,
   "metadata": {},
   "outputs": [
    {
     "name": "stdout",
     "output_type": "stream",
     "text": [
      "50\n",
      "62\n"
     ]
    }
   ],
   "source": [
    "# trailing zeros\n",
    "def zero(n) :\n",
    "    ans = 0\n",
    "    pow1 = 5\n",
    "    while n // pow1 != 0 :\n",
    "        ans += n // pow1\n",
    "        pow1 = pow1 * 5\n",
    "            \n",
    "    print(ans)\n",
    "        \n",
    "n = int(input())\n",
    "zero(n)"
   ]
  }
 ],
 "metadata": {
  "kernelspec": {
   "display_name": "Python 3",
   "language": "python",
   "name": "python3"
  },
  "language_info": {
   "codemirror_mode": {
    "name": "ipython",
    "version": 3
   },
   "file_extension": ".py",
   "mimetype": "text/x-python",
   "name": "python",
   "nbconvert_exporter": "python",
   "pygments_lexer": "ipython3",
   "version": "3.6.4"
  }
 },
 "nbformat": 4,
 "nbformat_minor": 2
}
