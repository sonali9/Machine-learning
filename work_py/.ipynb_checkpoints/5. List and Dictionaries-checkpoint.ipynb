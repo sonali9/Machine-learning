{
 "cells": [
  {
   "cell_type": "code",
   "execution_count": 1,
   "metadata": {},
   "outputs": [
    {
     "name": "stdout",
     "output_type": "stream",
     "text": [
      "['h', 'e', 'l', 'l', 'o']\n"
     ]
    }
   ],
   "source": [
    "# List\n",
    "a = [1, 2, 3]\n",
    "type(a)\n",
    "\n",
    "a1 = list()\n",
    "a1\n",
    "\n",
    "a2 = list(a)\n",
    "a2\n",
    "\n",
    "a3 = [ i for i in range(10)]\n",
    "a3\n",
    "\n",
    "a4 = [1, 2.3, \"abc\"]\n",
    "a4\n",
    "\n",
    "print(list(\"hello\"))"
   ]
  },
  {
   "cell_type": "code",
   "execution_count": 7,
   "metadata": {},
   "outputs": [
    {
     "name": "stdout",
     "output_type": "stream",
     "text": [
      "3\n",
      "2\n",
      "[2]\n",
      "3\n",
      "1\n",
      "2\n",
      "3\n"
     ]
    }
   ],
   "source": [
    "# access data\n",
    "print(a[-1])\n",
    "print(a[1])\n",
    "print(a[1:2])\n",
    "print(len(a))\n",
    "for i in a :\n",
    "    print(i)"
   ]
  },
  {
   "cell_type": "code",
   "execution_count": 3,
   "metadata": {},
   "outputs": [
    {
     "name": "stdout",
     "output_type": "stream",
     "text": [
      "a b c d\n",
      "1 2 3 4\n",
      "1 2 3 4\n",
      "<class 'str'>\n",
      "[1, 2, 3, 4]\n",
      "<class 'list'>\n",
      " 1 2 3 4 5\n",
      "[1, 2, 3, 4, 5]\n"
     ]
    }
   ],
   "source": [
    "str = \"a b c d\"\n",
    "str.split(\" \")\n",
    "print(str)\n",
    "\n",
    "inp = input().strip()\n",
    "print(inp)\n",
    "print(type(inp))\n",
    "list = inp.split(\" \")\n",
    "for i in range(0,len(list)) :\n",
    "    list[i] = int(list[i])\n",
    "print(list)\n",
    "print(type(list))\n",
    "\n",
    "# or\n",
    "\n",
    "l = [int(x) for x in input().strip().split(\" \")]\n",
    "print(l)"
   ]
  },
  {
   "cell_type": "code",
   "execution_count": 4,
   "metadata": {},
   "outputs": [
    {
     "name": "stdout",
     "output_type": "stream",
     "text": [
      "[1, 'ac', 3, 2]\n",
      "[1, 23, 'ac', 3, 2]\n",
      "[1, 23, 'ac', 3, 2, 2, 3, 4]\n"
     ]
    }
   ],
   "source": [
    "# add elements in a list\n",
    "l = [1 , \"ac\" , 3]\n",
    "l.append(2)\n",
    "print(l)\n",
    "\n",
    "l.insert(1, 23)\n",
    "print(l)\n",
    "\n",
    "l2 = [2 ,3 ,4]\n",
    "l.extend(l2)\n",
    "print(l)"
   ]
  },
  {
   "cell_type": "code",
   "execution_count": 7,
   "metadata": {},
   "outputs": [
    {
     "name": "stdout",
     "output_type": "stream",
     "text": [
      "[1, 23, 'ac', 3, 2, 2, 3]\n",
      "[1, 23, 3, 2, 2, 3]\n",
      "[1, 23, 3, 2, 3]\n",
      "[3, 2, 3]\n"
     ]
    }
   ],
   "source": [
    "# deleting elements\n",
    "l.pop() # without argument removes last element\n",
    "print(l)\n",
    "\n",
    "l.pop(2) # removes element at index 3\n",
    "print(l)\n",
    "\n",
    "l.remove(2) # removes particular element \n",
    "print(l)\n",
    "\n",
    "del l[0:2] # removes one index or complete slice\n",
    "print(l)"
   ]
  },
  {
   "cell_type": "code",
   "execution_count": 8,
   "metadata": {},
   "outputs": [
    {
     "name": "stdout",
     "output_type": "stream",
     "text": [
      "[1, 2, 3, 1, 2, 3]\n",
      "[1, 2, 3, 1, 2, 3]\n"
     ]
    }
   ],
   "source": [
    "l = [1,2,3]\n",
    "# l+2 invalid \n",
    "# addition of list with int not valid\n",
    "print(l+l)\n",
    "# addition of list with list is valid\n",
    "\n",
    "print(l*2)\n",
    "# multiplication of list with int is valid"
   ]
  },
  {
   "cell_type": "code",
   "execution_count": 10,
   "metadata": {},
   "outputs": [
    {
     "name": "stdout",
     "output_type": "stream",
     "text": [
      "[1, 1, 2, 3, 4, 5, 7, 9]\n",
      "2\n",
      "6\n",
      "[1, 1, 2, 3, 4, 5, 7, 9]\n",
      "True\n"
     ]
    }
   ],
   "source": [
    "l = [2,3,4,1,1,5,9,7]\n",
    "l.sort()\n",
    "print(l)\n",
    "print(l.count(1))\n",
    "print(l.index(7))\n",
    "l.reverse\n",
    "print(l)\n",
    "print(7 in l)"
   ]
  },
  {
   "cell_type": "code",
   "execution_count": 11,
   "metadata": {},
   "outputs": [
    {
     "name": "stdout",
     "output_type": "stream",
     "text": [
      "12454\n"
     ]
    }
   ],
   "source": [
    "list1 = [2445,133,12454,123]\n",
    "print(max(list1))"
   ]
  },
  {
   "cell_type": "code",
   "execution_count": 12,
   "metadata": {},
   "outputs": [
    {
     "name": "stdout",
     "output_type": "stream",
     "text": [
      "['h', 'e', 'l', 'l', 'o']\n"
     ]
    }
   ],
   "source": [
    "print([i.lower() for i in \"HELLO\"])"
   ]
  },
  {
   "cell_type": "code",
   "execution_count": 13,
   "metadata": {},
   "outputs": [
    {
     "name": "stdout",
     "output_type": "stream",
     "text": [
      "abc\n"
     ]
    }
   ],
   "source": [
    "aList = [123,'xyz','zara','abc']\n",
    "print(aList.pop())"
   ]
  },
  {
   "cell_type": "code",
   "execution_count": 15,
   "metadata": {},
   "outputs": [
    {
     "data": {
      "text/plain": [
       "[2, 3, 4]"
      ]
     },
     "execution_count": 15,
     "metadata": {},
     "output_type": "execute_result"
    }
   ],
   "source": [
    "a = [1,2,3,4,5,6,7,8]\n",
    "a[1:4]"
   ]
  },
  {
   "cell_type": "code",
   "execution_count": 19,
   "metadata": {},
   "outputs": [
    {
     "name": "stdout",
     "output_type": "stream",
     "text": [
      "[1, 2, 3, 4, 5, 6]\n"
     ]
    }
   ],
   "source": [
    "# bubble sort\n",
    "\n",
    "l = [3,2,4,6,1,5]\n",
    "n = len(l)\n",
    "for j in range(n - 1) :\n",
    "    for i in range(0, n - 1 - j) :\n",
    "        if(l[i] > l[i + 1]) :\n",
    "            t = l[i]\n",
    "            l[i] = l[i + 1]\n",
    "            l[i + 1] = t\n",
    "print(l)    "
   ]
  },
  {
   "cell_type": "code",
   "execution_count": 1,
   "metadata": {},
   "outputs": [
    {
     "name": "stdout",
     "output_type": "stream",
     "text": [
      "7\n",
      "2 13 4 1 3 6 28\n",
      "[1, 2, 3, 4, 6, 13, 28]\n"
     ]
    }
   ],
   "source": [
    "# selection sort\n",
    "\n",
    "n = int(input())\n",
    "l = [int(x) for x in input().strip().split(\" \")]\n",
    "\n",
    "for j in range(n - 1) :\n",
    "    min = l[j]\n",
    "    p = j\n",
    "    for i in range(j + 1, n ) :\n",
    "        if min > l[i] :\n",
    "            min = l[i]\n",
    "            p = i\n",
    "    t = l[p]\n",
    "    l[p] = l[j]\n",
    "    l[j] = t\n",
    "for i in range(n):\n",
    "    print(l[i],end=\" \")"
   ]
  },
  {
   "cell_type": "code",
   "execution_count": 40,
   "metadata": {},
   "outputs": [
    {
     "name": "stdout",
     "output_type": "stream",
     "text": [
      "4\n",
      "1 2 -2 3\n",
      "1\n"
     ]
    }
   ],
   "source": [
    "# equilibrium index\n",
    "\n",
    "n = int(input())\n",
    "l = [int(x) for x in input().strip().split(\" \")]\n",
    "\n",
    "sum = 0\n",
    "check = 0\n",
    "for i in range(n):\n",
    "    sum += l[i]\n",
    "\n",
    "lh = 0\n",
    "rh = sum - l[0]\n",
    "for i in range(1,n):\n",
    "    if lh == rh:\n",
    "        print(i - 1)\n",
    "        check += 1\n",
    "        break\n",
    "    lh += l[i - 1]\n",
    "    rh -= l[i]\n",
    "    \n",
    "if check == 0:\n",
    "    print(-1)\n",
    "    "
   ]
  },
  {
   "cell_type": "code",
   "execution_count": 8,
   "metadata": {},
   "outputs": [
    {
     "name": "stdout",
     "output_type": "stream",
     "text": [
      "{23: 34, 'str': 345}\n"
     ]
    },
    {
     "data": {
      "text/plain": [
       "{23: 345, 'str': 322}"
      ]
     },
     "execution_count": 8,
     "metadata": {},
     "output_type": "execute_result"
    }
   ],
   "source": [
    "# Dictionary\n",
    "# create, update, insert\n",
    "\n",
    "d = {}\n",
    "d[23] = 34\n",
    "d[\"str\"] = 345\n",
    "print(d)\n",
    "\n",
    "d = {23: 34, \"str\":322}\n",
    "d[23] = 345\n",
    "d"
   ]
  },
  {
   "cell_type": "code",
   "execution_count": 9,
   "metadata": {},
   "outputs": [
    {
     "name": "stdout",
     "output_type": "stream",
     "text": [
      "23,345\n",
      "str,322\n"
     ]
    }
   ],
   "source": [
    "# iterate over dictionary\n",
    "\n",
    "for i in d :\n",
    "    print(i, end=\",\")\n",
    "    print(d[i])"
   ]
  },
  {
   "cell_type": "code",
   "execution_count": 10,
   "metadata": {},
   "outputs": [
    {
     "data": {
      "text/plain": [
       "{'str': 322}"
      ]
     },
     "execution_count": 10,
     "metadata": {},
     "output_type": "execute_result"
    }
   ],
   "source": [
    "# delete elements of dictionary\n",
    "del d[23]\n",
    "d"
   ]
  },
  {
   "cell_type": "code",
   "execution_count": 11,
   "metadata": {},
   "outputs": [
    {
     "name": "stdout",
     "output_type": "stream",
     "text": [
      "True\n",
      "1\n",
      "{}\n",
      "dict_keys([2])\n",
      "dict_values([1])\n",
      "False\n"
     ]
    }
   ],
   "source": [
    "# common functions\n",
    "\n",
    "d1 = {}\n",
    "d1[2] = 1\n",
    "d2 = {}\n",
    "d2[2] = 1\n",
    "print(d1 == d2)\n",
    "\n",
    "print(len(d2))\n",
    "\n",
    "d1.clear()\n",
    "print(d1)\n",
    "\n",
    "print(d2.keys())\n",
    "print(d2.values())\n",
    "\n",
    "print(23 in d2)"
   ]
  },
  {
   "cell_type": "code",
   "execution_count": 12,
   "metadata": {},
   "outputs": [
    {
     "data": {
      "text/plain": [
       "False"
      ]
     },
     "execution_count": 12,
     "metadata": {},
     "output_type": "execute_result"
    }
   ],
   "source": [
    "d1 = {\"john\":40, \"peter\":45}\n",
    "d2 = {\"john\":466, \"peter\":45}\n",
    "d1 == d2"
   ]
  },
  {
   "cell_type": "code",
   "execution_count": 16,
   "metadata": {},
   "outputs": [
    {
     "name": "stdout",
     "output_type": "stream",
     "text": [
      "6\n",
      "3 12 34 2 0 -1\n",
      "34 2 0 -1 "
     ]
    }
   ],
   "source": [
    "# Leaders in array\n",
    "\n",
    "n = int(input())\n",
    "l = [int(x) for x in input().strip().split(\" \")]\n",
    "a = []\n",
    "max = l[n - 1]\n",
    "for i in range(n - 1, -1, -1):\n",
    "    if l[i] >= max :\n",
    "        a.append(l[i])\n",
    "        max = l[i]\n",
    "\n",
    "a.sort(reverse = True)\n",
    "\n",
    "for i in range(len(a)) :\n",
    "    print(a[i], end = \" \")"
   ]
  },
  {
   "cell_type": "code",
   "execution_count": 18,
   "metadata": {},
   "outputs": [
    {
     "name": "stdout",
     "output_type": "stream",
     "text": [
      "Welcome to Coding Ninjas\n",
      "Welcome to Coding Ninjas "
     ]
    }
   ],
   "source": [
    "# Reverse a string word wise\n",
    "\n",
    "l = [str(x) for x in input().strip().split(\" \")]\n",
    "l.reverse()\n",
    "\n",
    "for i in l:\n",
    "    print(i, end= \" \")"
   ]
  },
  {
   "cell_type": "code",
   "execution_count": null,
   "metadata": {},
   "outputs": [],
   "source": []
  }
 ],
 "metadata": {
  "kernelspec": {
   "display_name": "Python 3",
   "language": "python",
   "name": "python3"
  },
  "language_info": {
   "codemirror_mode": {
    "name": "ipython",
    "version": 3
   },
   "file_extension": ".py",
   "mimetype": "text/x-python",
   "name": "python",
   "nbconvert_exporter": "python",
   "pygments_lexer": "ipython3",
   "version": "3.6.4"
  }
 },
 "nbformat": 4,
 "nbformat_minor": 2
}
