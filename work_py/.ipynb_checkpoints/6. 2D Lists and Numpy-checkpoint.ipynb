{
 "cells": [
  {
   "cell_type": "code",
   "execution_count": 1,
   "metadata": {},
   "outputs": [
    {
     "name": "stdout",
     "output_type": "stream",
     "text": [
      "[[1, 2, 3], [4, 5, 6]]\n",
      "2\n"
     ]
    }
   ],
   "source": [
    "# 2D List\n",
    "\n",
    "l = [[1, 2, 3], [4, 5, 6]]\n",
    "print(l)\n",
    "print(l[0][1])"
   ]
  },
  {
   "cell_type": "code",
   "execution_count": 4,
   "metadata": {},
   "outputs": [
    {
     "name": "stdout",
     "output_type": "stream",
     "text": [
      "[0, 1, 2, 3, 4, 5, 6, 7, 8, 9]\n",
      "[[0, 0, 0, 0], [0, 0, 0, 0], [0, 0, 0, 0], [0, 0, 0, 0], [0, 0, 0, 0], [0, 0, 0, 0], [0, 0, 0, 0], [0, 0, 0, 0], [0, 0, 0, 0], [0, 0, 0, 0]]\n",
      "[[0, 1, 2, 3, 4], [0, 1, 2, 3, 4], [0, 1, 2, 3, 4], [0, 1, 2, 3, 4], [0, 1, 2, 3, 4], [0, 1, 2, 3, 4], [0, 1, 2, 3, 4], [0, 1, 2, 3, 4], [0, 1, 2, 3, 4], [0, 1, 2, 3, 4]]\n",
      "[[0, 1, 2, 3, 4], [5, 6, 7, 8, 9], [10, 11, 12, 13, 14], [15, 16, 17, 18, 19], [20, 21, 22, 23, 24], [25, 26, 27, 28, 29], [30, 31, 32, 33, 34], [35, 36, 37, 38, 39], [40, 41, 42, 43, 44], [45, 46, 47, 48, 49]]\n"
     ]
    }
   ],
   "source": [
    "# Creation of 2D arrays\n",
    "\n",
    "l1d = [i for i in range(10)]\n",
    "print(l1d)\n",
    "\n",
    "l2d = [[0, 0, 0, 0] for i in range(10)]\n",
    "print(l2d)\n",
    "\n",
    "l2d1 = [[j for j in range(5)] for i in range(10)]\n",
    "print(l2d1)\n",
    "\n",
    "l2d2 = [[5 * i + j for j in range(5)] for i in range(10)]\n",
    "print(l2d2)"
   ]
  },
  {
   "cell_type": "code",
   "execution_count": 7,
   "metadata": {},
   "outputs": [
    {
     "name": "stdout",
     "output_type": "stream",
     "text": [
      "2 3\n",
      "1 2 3 4 5 6\n",
      "[[1, 2, 3], [4, 5, 6]]\n",
      "[[1, 2, 3], [4, 5, 6]]\n"
     ]
    }
   ],
   "source": [
    "# take input in 2D array\n",
    "\n",
    "str = input().strip().split(\" \")\n",
    "n = int(str[0])\n",
    "m = int(str[1])\n",
    "\n",
    "l = [int(i) for i in input().strip().split(\" \")]\n",
    "\n",
    "out = []\n",
    "for i in range(n):   \n",
    "    out.append([])\n",
    "    for j in range(m):\n",
    "        out[i].append(l[i * m + j])\n",
    "\n",
    "print(out)\n",
    "\n",
    "# or\n",
    "\n",
    "out2 = [[l[i * m + j] for j in range(m)] for i in range(n)]\n",
    "print(out2)"
   ]
  },
  {
   "cell_type": "code",
   "execution_count": 8,
   "metadata": {},
   "outputs": [
    {
     "name": "stdout",
     "output_type": "stream",
     "text": [
      "1 4 5 2 3 6 "
     ]
    }
   ],
   "source": [
    "# wave print\n",
    "\n",
    "p=len(out2)\n",
    "q=len(out2[0])\n",
    "\n",
    "for j in range(m):\n",
    "    if(j%2==0):\n",
    "        for i in range(n):\n",
    "            print(out2[i][j],end=\" \")\n",
    "    else:\n",
    "        for i in range(n-1,-1,-1):\n",
    "            print(out2[i][j],end=\" \")"
   ]
  },
  {
   "cell_type": "code",
   "execution_count": 26,
   "metadata": {},
   "outputs": [
    {
     "name": "stdout",
     "output_type": "stream",
     "text": [
      "3 3\n",
      "3 6 9 1 4 7 2 8 9\n",
      "19\n",
      "0\n",
      "row 2 19\n"
     ]
    }
   ],
   "source": [
    "# Largest row or column\n",
    "\n",
    "str = input().strip().split(\" \")\n",
    "n = int(str[0])\n",
    "m = int(str[1])\n",
    "\n",
    "l = [int(i) for i in input().strip().split(\" \")]\n",
    "out = [[l[i * m + j] for j in range(m)] for i in range(n)]\n",
    "maxr = 0\n",
    "maxc = 0\n",
    "r = 0\n",
    "c = 0\n",
    "\n",
    "for i in range(n):\n",
    "    sumr = 0\n",
    "    for j in range(m):\n",
    "        sumr += out[i][j]\n",
    "        if sumr > maxr:\n",
    "            maxr = sumr\n",
    "            r = i\n",
    "            \n",
    "for j in range(m):\n",
    "    sumc = 0\n",
    "    for i in range(n):\n",
    "        sumc += out[i][j]\n",
    "        if sumc > maxc:\n",
    "            maxc = sumc\n",
    "            c = j\n",
    "print(maxr)\n",
    "print(maxc)\n",
    "if maxc > maxr:\n",
    "    print(\"column\",end=\" \")\n",
    "    print(c,end=\" \")\n",
    "    print(maxc)\n",
    "else:\n",
    "    print(\"row\",end=\" \")\n",
    "    print(r,end=\" \")\n",
    "    print(maxr)\n"
   ]
  },
  {
   "cell_type": "code",
   "execution_count": 20,
   "metadata": {},
   "outputs": [
    {
     "name": "stdout",
     "output_type": "stream",
     "text": [
      "2 3 1 2 3 4 5 6\n",
      "[[1, 2, 3], [4, 5, 6]]\n",
      "1 2 3 6 5 4 "
     ]
    }
   ],
   "source": [
    "# spiral print\n",
    "\n",
    "l = [int(i) for i in input().strip().split(\" \")]\n",
    "n = int(l[0])\n",
    "m = int(l[1])\n",
    "at = l[2::]\n",
    "out = [[at[i*m+j] for j in range(m)] for i in range(n)]\n",
    "print(out)\n",
    "t = m * n\n",
    "sr = 0\n",
    "er = n - 1\n",
    "sc = 0\n",
    "ec = m - 1\n",
    "j = 0\n",
    "while(j < t):\n",
    "    \n",
    "    #top\n",
    "    for i in range(sc,ec+1,1):\n",
    "        if(j < t):\n",
    "            print(out[sr][i], end=\" \")\n",
    "            j += 1\n",
    "    sr += 1\n",
    "    \n",
    "    #right \n",
    "    for i in range(sr,er+1,1):\n",
    "        if(j < t):\n",
    "            print(out[i][ec], end=\" \")\n",
    "            j += 1\n",
    "    ec -= 1\n",
    "    \n",
    "     #bottom\n",
    "    for i in range(ec ,sc-1,-1):\n",
    "        if(j < t):\n",
    "            print(out[er][i], end=\" \")\n",
    "            j += 1\n",
    "    er -= 1\n",
    "    \n",
    "    #left\n",
    "    for i in range(er , sr-1,-1):\n",
    "        if(j < t):\n",
    "            print(out[i][sc], end=\" \")\n",
    "            j += 1\n",
    "    sc += 1\n"
   ]
  },
  {
   "cell_type": "code",
   "execution_count": 13,
   "metadata": {},
   "outputs": [
    {
     "name": "stdout",
     "output_type": "stream",
     "text": [
      "3.1622776601683795\n",
      "3.1622776601683795\n"
     ]
    },
    {
     "data": {
      "text/plain": [
       "3.1622776601683795"
      ]
     },
     "execution_count": 13,
     "metadata": {},
     "output_type": "execute_result"
    }
   ],
   "source": [
    "# importing modules\n",
    "\n",
    "import math\n",
    "a = math.sqrt(10)\n",
    "print(a)\n",
    "\n",
    "import math as m\n",
    "a = m.sqrt(10)\n",
    "print(a)\n",
    "\n",
    "from math import sqrt\n",
    "sqrt(10)"
   ]
  },
  {
   "cell_type": "code",
   "execution_count": 15,
   "metadata": {},
   "outputs": [
    {
     "data": {
      "text/plain": [
       "array([1, 2, 3])"
      ]
     },
     "execution_count": 15,
     "metadata": {},
     "output_type": "execute_result"
    }
   ],
   "source": [
    "# numpy\n",
    "\n",
    "import numpy as np\n",
    "l = [1, 2, 3]\n",
    "np.array(l)"
   ]
  },
  {
   "cell_type": "code",
   "execution_count": 17,
   "metadata": {},
   "outputs": [
    {
     "data": {
      "text/plain": [
       "array(['1', '2', '3'], dtype='<U11')"
      ]
     },
     "execution_count": 17,
     "metadata": {},
     "output_type": "execute_result"
    }
   ],
   "source": [
    "l = [1, 2, \"3\"]\n",
    "np.array(l)"
   ]
  },
  {
   "cell_type": "code",
   "execution_count": 28,
   "metadata": {},
   "outputs": [
    {
     "name": "stdout",
     "output_type": "stream",
     "text": [
      "[1 2 3]\n",
      "[0. 0. 0. 0. 0. 0. 0. 0. 0. 0.]\n",
      "[0 0 0 0 0 0 0 0 0 0]\n",
      "[1. 1. 1. 1. 1. 1. 1. 1. 1. 1.]\n",
      "float64\n",
      "[0. 1. 1. 1. 1. 1. 1. 1. 1. 1.]\n",
      "[[0. 0. 0.]\n",
      " [0. 0. 0.]]\n"
     ]
    }
   ],
   "source": [
    "# creating numpy arrays\n",
    "\n",
    "l = [1, 2, 3]\n",
    "print(np.array(l))\n",
    "\n",
    "print(np.zeros(10))\n",
    "print(np.zeros(10, int))\n",
    "\n",
    "a = np.ones(10)\n",
    "print(a)\n",
    "print(a.dtype)\n",
    "a[0] = \"0\" # converts zero to float\n",
    "print(a)\n",
    "# a[0] = \"aa\" will show error as all elements of array should have same type\n",
    "\n",
    "print(np.zeros((2, 3)))"
   ]
  },
  {
   "cell_type": "code",
   "execution_count": 30,
   "metadata": {},
   "outputs": [
    {
     "name": "stdout",
     "output_type": "stream",
     "text": [
      "[[1 2 3]\n",
      " [4 5 6]]\n",
      "(4, 3)\n",
      "[1 4 1 4]\n",
      "[[3]\n",
      " [6]\n",
      " [3]\n",
      " [6]]\n",
      "[[3]]\n"
     ]
    }
   ],
   "source": [
    "# slicing\n",
    "print(a[2:4])\n",
    "\n",
    "#shape\n",
    "a = np.array([[1, 2, 3], [4, 5, 6], [1, 2, 3], [4, 5, 6]])\n",
    "print(a.shape)\n",
    "print(a[:,0])\n",
    "print(a[:,2:3])\n",
    "print(a[0:1,2:4])"
   ]
  },
  {
   "cell_type": "code",
   "execution_count": 9,
   "metadata": {},
   "outputs": [
    {
     "data": {
      "text/plain": [
       "array([0, 1, 2, 3, 4, 5, 6, 7, 8, 9])"
      ]
     },
     "execution_count": 9,
     "metadata": {},
     "output_type": "execute_result"
    }
   ],
   "source": [
    "import numpy as np\n",
    "np.arange(10)"
   ]
  },
  {
   "cell_type": "code",
   "execution_count": 31,
   "metadata": {},
   "outputs": [
    {
     "data": {
      "text/plain": [
       "(4,)"
      ]
     },
     "execution_count": 31,
     "metadata": {},
     "output_type": "execute_result"
    }
   ],
   "source": [
    "a=np.array([0,1,2,3])\n",
    "a.shape"
   ]
  },
  {
   "cell_type": "code",
   "execution_count": 38,
   "metadata": {},
   "outputs": [
    {
     "name": "stdout",
     "output_type": "stream",
     "text": [
      "[3 4 5]\n",
      "[ 6  8 10]\n",
      "[2 4 6]\n",
      "[ 5 12 21]\n",
      "[1 4 9]\n",
      "[   1   64 2187]\n",
      "2.0\n",
      "6\n"
     ]
    }
   ],
   "source": [
    "# numpy operations\n",
    "\n",
    "a=np.array([1,2,3])\n",
    "b=np.array([5,6,7])\n",
    "print(a + 2)        # element wise operation\n",
    "print(a + b)        # arrays of same dimensions only are added\n",
    "print(a * 2)\n",
    "print(a * b)\n",
    "print(a ** 2)\n",
    "print(a ** b)\n",
    "print(a.mean())\n",
    "print(a.sum())\n"
   ]
  },
  {
   "cell_type": "code",
   "execution_count": 40,
   "metadata": {},
   "outputs": [
    {
     "name": "stdout",
     "output_type": "stream",
     "text": [
      "6.928203230275509\n"
     ]
    }
   ],
   "source": [
    "#  squared distance\n",
    "\n",
    "a=np.array([1,2,3])\n",
    "b=np.array([5,6,7])\n",
    "d = ((a - b) ** 2).sum()\n",
    "d = m.sqrt(d)\n",
    "print(d)"
   ]
  },
  {
   "cell_type": "code",
   "execution_count": 42,
   "metadata": {},
   "outputs": [
    {
     "data": {
      "text/plain": [
       "14.75"
      ]
     },
     "execution_count": 42,
     "metadata": {},
     "output_type": "execute_result"
    }
   ],
   "source": [
    "x = np.array([1,3,5,6])\n",
    "((x - x.mean()) ** 2).sum()"
   ]
  },
  {
   "cell_type": "code",
   "execution_count": 44,
   "metadata": {},
   "outputs": [
    {
     "data": {
      "text/plain": [
       "array([[ 70, 100],\n",
       "       [150, 220]])"
      ]
     },
     "execution_count": 44,
     "metadata": {},
     "output_type": "execute_result"
    }
   ],
   "source": [
    "a=np.array([[1,2],[3,4]])\n",
    "b=np.array([[10,20],[30,40]])\n",
    "a.dot(b)\n",
    "\n",
    "# np.mat() is strictly 2d matrix\n",
    "# a * b on it will not do element wise operation, instead will compute actual cross product"
   ]
  },
  {
   "cell_type": "code",
   "execution_count": 12,
   "metadata": {},
   "outputs": [
    {
     "data": {
      "text/plain": [
       "2.25"
      ]
     },
     "execution_count": 12,
     "metadata": {},
     "output_type": "execute_result"
    }
   ],
   "source": [
    "a=np.array([5,1,2,1])\n",
    "a.mean()"
   ]
  },
  {
   "cell_type": "code",
   "execution_count": 13,
   "metadata": {},
   "outputs": [
    {
     "data": {
      "text/plain": [
       "26"
      ]
     },
     "execution_count": 13,
     "metadata": {},
     "output_type": "execute_result"
    }
   ],
   "source": [
    "a=np.array([0,1,2,3])\n",
    "b=np.array([2,3,4,5])\n",
    "a.dot(b)"
   ]
  },
  {
   "cell_type": "code",
   "execution_count": 14,
   "metadata": {},
   "outputs": [
    {
     "data": {
      "text/plain": [
       "(2, 3)"
      ]
     },
     "execution_count": 14,
     "metadata": {},
     "output_type": "execute_result"
    }
   ],
   "source": [
    "a=np.matrix('1 2 4;3 4 5')\n",
    "a.shape"
   ]
  },
  {
   "cell_type": "code",
   "execution_count": 15,
   "metadata": {},
   "outputs": [
    {
     "data": {
      "text/plain": [
       "array([1, 5])"
      ]
     },
     "execution_count": 15,
     "metadata": {},
     "output_type": "execute_result"
    }
   ],
   "source": [
    "np.sum([[0,1],[0,5]],axis=1)"
   ]
  },
  {
   "cell_type": "code",
   "execution_count": 30,
   "metadata": {},
   "outputs": [
    {
     "name": "stdout",
     "output_type": "stream",
     "text": [
      "2 2\n",
      "1 1 1 1\n",
      "row 0 2 "
     ]
    }
   ],
   "source": [
    "str=input().strip().split(\" \")\n",
    "n=int(str[0])\n",
    "m=int(str[1])\n",
    "\n",
    "l=[int(i) for i in input().strip().split(\" \")]\n",
    "\n",
    "out=[[l[i*m+j] for j in range(m)] for i in range(n)]\n",
    "\n",
    "a1=[0,0,0]\n",
    "a2=[0,0,0]\n",
    "\n",
    "#row wise\n",
    "for i in range(n):\n",
    "    for j in range(m):\n",
    "        a1[1]+=out[i][j]\n",
    "    \n",
    "    if(a1[1]>a1[0]):\n",
    "        a1[0]=a1[1]\n",
    "        a1[2]=i\n",
    "        \n",
    "    a1[1]=0\n",
    "        \n",
    "#column wise\n",
    "for j in range(m):\n",
    "    for i in range(n):\n",
    "        a2[1]+=out[i][j]\n",
    "    \n",
    "    if(a2[1]>a2[0]):\n",
    "        a2[0]=a2[1]\n",
    "        a2[2]=j\n",
    "    \n",
    "    a2[1]=0\n",
    "    \n",
    "if(a2[0]>a1[0]):\n",
    "    print('column',end=\" \")\n",
    "    print(a2[2],end=\" \")\n",
    "    print(a2[0],end=\" \")\n",
    "    \n",
    "else:\n",
    "    print('row',end=\" \")\n",
    "    print(a1[2],end=\" \")\n",
    "    print(a1[0],end=\" \")\n",
    "    "
   ]
  },
  {
   "cell_type": "code",
   "execution_count": 11,
   "metadata": {},
   "outputs": [
    {
     "name": "stdout",
     "output_type": "stream",
     "text": [
      " 4 4 1 2 3 4 5 6 7 8 9 10 11 12 13 14 15 16\n",
      "1 2 3 4 8 12 16 15 14 13 9 5 6 7 11 10 "
     ]
    }
   ],
   "source": [
    "str=input().strip().split(\" \")\n",
    "n=int(str[0])\n",
    "m=int(str[1])\n",
    "\n",
    "l=[int(i) for i in str]\n",
    "l.pop(0)\n",
    "l.pop(0)\n",
    "\n",
    "out=[[l[i*m+j] for j in range(m)] for i in range(n)]\n",
    "\n",
    "rmin=0\n",
    "rmax=len(out)-1\n",
    "cmin=0\n",
    "cmax=len(out[0])-1\n",
    "\n",
    "c=0\n",
    "num=len(out)*len(out[0])\n",
    "\n",
    "while(c<num):\n",
    "    #top wall\n",
    "    col=cmin\n",
    "    while(c<num and col<=cmax):\n",
    "        print(out[rmin][col],end=\" \")\n",
    "        col+=1\n",
    "        c+=1\n",
    "    rmin+=1\n",
    "        \n",
    "    #right wall\n",
    "    row=rmin\n",
    "    while(c<num and row<=rmax):\n",
    "        print(out[row][cmax],end=\" \")\n",
    "        row+=1\n",
    "        c+=1\n",
    "    cmax-=1\n",
    "    \n",
    "    #bottom wall\n",
    "    col=cmax\n",
    "    while(c<num and col>=cmin):\n",
    "        print(out[rmax][col],end=\" \")\n",
    "        col-=1\n",
    "        c+=1\n",
    "    rmax-=1\n",
    "    \n",
    "    #left wall\n",
    "    row=rmax\n",
    "    while(c<num and row>=rmin):\n",
    "        print(out[row][cmin],end=\" \")\n",
    "        row-=1\n",
    "        c+=1\n",
    "    cmin+=1"
   ]
  }
 ],
 "metadata": {
  "kernelspec": {
   "display_name": "Python 3",
   "language": "python",
   "name": "python3"
  },
  "language_info": {
   "codemirror_mode": {
    "name": "ipython",
    "version": 3
   },
   "file_extension": ".py",
   "mimetype": "text/x-python",
   "name": "python",
   "nbconvert_exporter": "python",
   "pygments_lexer": "ipython3",
   "version": "3.6.4"
  }
 },
 "nbformat": 4,
 "nbformat_minor": 2
}
