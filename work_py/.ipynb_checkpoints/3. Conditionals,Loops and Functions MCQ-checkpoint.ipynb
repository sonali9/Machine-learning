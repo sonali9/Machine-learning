{
 "cells": [
  {
   "cell_type": "code",
   "execution_count": 1,
   "metadata": {},
   "outputs": [
    {
     "name": "stdout",
     "output_type": "stream",
     "text": [
      "B\n"
     ]
    }
   ],
   "source": [
    "if(10<0) and (0<-10):\n",
    "    print(\"A\")\n",
    "elif(10>0) or False:\n",
    "    print(\"B\")\n",
    "else:\n",
    "    print(\"C\")"
   ]
  },
  {
   "cell_type": "code",
   "execution_count": 2,
   "metadata": {},
   "outputs": [
    {
     "name": "stdout",
     "output_type": "stream",
     "text": [
      "B\n"
     ]
    }
   ],
   "source": [
    "if True or True:\n",
    "    if False and True or False:\n",
    "        print(\"A\")\n",
    "    elif False and False or True and True:\n",
    "        print(\"B\")\n",
    "    else:\n",
    "        print(\"C\")\n",
    "else:\n",
    "    print(\"D\")"
   ]
  },
  {
   "cell_type": "code",
   "execution_count": 3,
   "metadata": {},
   "outputs": [
    {
     "name": "stdout",
     "output_type": "stream",
     "text": [
      "0 1 2 "
     ]
    }
   ],
   "source": [
    "i=0\n",
    "while i<3:\n",
    "    print(i,end=\" \")\n",
    "    i+=1"
   ]
  },
  {
   "cell_type": "code",
   "execution_count": 4,
   "metadata": {},
   "outputs": [
    {
     "name": "stdout",
     "output_type": "stream",
     "text": [
      "3 4 5 "
     ]
    }
   ],
   "source": [
    "a=3\n",
    "for i in range(a):\n",
    "    print(a,end=\" \")\n",
    "    a+=1"
   ]
  },
  {
   "cell_type": "code",
   "execution_count": 8,
   "metadata": {},
   "outputs": [
    {
     "name": "stdout",
     "output_type": "stream",
     "text": [
      "a b c d "
     ]
    }
   ],
   "source": [
    "x='abcd'\n",
    "for i in x:\n",
    "    print(i,end=\" \")\n",
    "    x.upper()"
   ]
  },
  {
   "cell_type": "code",
   "execution_count": 9,
   "metadata": {},
   "outputs": [
    {
     "name": "stdout",
     "output_type": "stream",
     "text": [
      "abcd\n",
      "a\n",
      "a\n",
      "a\n"
     ]
    }
   ],
   "source": [
    "x='abcd'\n",
    "for i in range(len(x)):\n",
    "    print(x)\n",
    "    x='a'"
   ]
  },
  {
   "cell_type": "code",
   "execution_count": 10,
   "metadata": {},
   "outputs": [
    {
     "name": "stdout",
     "output_type": "stream",
     "text": [
      "4 is maximum\n"
     ]
    }
   ],
   "source": [
    "def printMax(a,b):\n",
    "    if a>b:\n",
    "        print(a,'is maximum')\n",
    "    elif a==b:\n",
    "        print(a,'is equal to',b)\n",
    "    else:\n",
    "        print(b,'is maximum')\n",
    "        \n",
    "printMax(3,4)"
   ]
  },
  {
   "cell_type": "code",
   "execution_count": 11,
   "metadata": {},
   "outputs": [
    {
     "name": "stdout",
     "output_type": "stream",
     "text": [
      "50\n"
     ]
    }
   ],
   "source": [
    "x=50\n",
    "def change(x):\n",
    "    x=2\n",
    "change(x)\n",
    "print(x)"
   ]
  },
  {
   "cell_type": "code",
   "execution_count": 13,
   "metadata": {},
   "outputs": [
    {
     "name": "stdout",
     "output_type": "stream",
     "text": [
      "9 27\n"
     ]
    }
   ],
   "source": [
    "def power(x,y=2):\n",
    "    ans=1\n",
    "    for i in range(y):\n",
    "        ans=ans*x\n",
    "    return ans\n",
    "\n",
    "print(power(3),end=\" \")\n",
    "print(power(3,3))"
   ]
  },
  {
   "cell_type": "code",
   "execution_count": null,
   "metadata": {},
   "outputs": [],
   "source": [
    "def printPatt(n):\n",
    "    row=0\n",
    "    c=1\n",
    "    while(row<n):\n",
    "        col=0\n",
    "        while(col<=row):\n",
    "            if(row%2==0):\n",
    "                print(c,end=\" \")\n",
    "                c+=1\n",
    "            else:\n",
    "                if(col==0):\n",
    "                    c=c+row\n",
    "                print(c,end=\" \")\n",
    "                c-=1\n",
    "                if(col==row):\n",
    "                    c=c+row+2\n",
    "            col+=1\n",
    "        print()\n",
    "        row+=1\n",
    "    \n",
    "n=int(input())\n",
    "printPatt(n)"
   ]
  },
  {
   "cell_type": "code",
   "execution_count": null,
   "metadata": {},
   "outputs": [],
   "source": [
    "def printPatt1(n):\n",
    "    row=0\n",
    "    nst=1\n",
    "    nsp=2*n-2\n",
    "    while(row<n):\n",
    "        cst=0\n",
    "        csp=0\n",
    "        c=0\n",
    "        while(cst<nst):\n",
    "            print(c)\n",
    "            c+=1\n",
    "            cst+=1\n",
    "        \n",
    "        while(csp<nsp):\n",
    "            print(\" \")\n",
    "            csp+=1\n",
    "            \n",
    "        cst=0\n",
    "        while(cst<nst):\n",
    "            c-=1\n",
    "            print(c)\n",
    "            cst+=1\n",
    "            \n",
    "        print()\n",
    "        nst+=1\n",
    "        nsp-=2\n",
    "        \n",
    "        row+=1\n",
    "\n",
    "printPatt1(5)"
   ]
  },
  {
   "cell_type": "code",
   "execution_count": null,
   "metadata": {},
   "outputs": [],
   "source": [
    "def printPrime(n):\n",
    "    for i in range(2,n+1):\n",
    "        for j in range(2,i*i):\n",
    "            if(i%j==0):\n",
    "                break\n",
    "        \n",
    "        if(j==i):\n",
    "            print(i)\n",
    "\n",
    "n=int(input())\n",
    "printPrime(n)"
   ]
  },
  {
   "cell_type": "code",
   "execution_count": null,
   "metadata": {},
   "outputs": [],
   "source": [
    "def D2B(n):\n",
    "    rem=0\n",
    "    pow=1\n",
    "    bin=0\n",
    "    while(n!=0):\n",
    "        rem=n%2\n",
    "        n=n/2\n",
    "        bin=bin+rem*pow\n",
    "        pow=pow*10\n",
    "    \n",
    "    print(bin)\n",
    "\n",
    "n=int(input())\n",
    "D2B(n)"
   ]
  },
  {
   "cell_type": "code",
   "execution_count": null,
   "metadata": {},
   "outputs": [],
   "source": [
    "def fib(n):\n",
    "    if(n<2):\n",
    "        return 0\n",
    "    f1=0\n",
    "    f2=2\n",
    "    sum=f1+f2\n",
    "    while(f2<=n):\n",
    "        f3=4*f2+f1;\n",
    "        if(f3>n):\n",
    "            break\n",
    "        f1=f2;\n",
    "        f2=f3;\n",
    "        sum+=f2;\n",
    "n=int(input())\n",
    "fib(n)"
   ]
  }
 ],
 "metadata": {
  "kernelspec": {
   "display_name": "Python 3",
   "language": "python",
   "name": "python3"
  },
  "language_info": {
   "codemirror_mode": {
    "name": "ipython",
    "version": 3
   },
   "file_extension": ".py",
   "mimetype": "text/x-python",
   "name": "python",
   "nbconvert_exporter": "python",
   "pygments_lexer": "ipython3",
   "version": "3.6.4"
  }
 },
 "nbformat": 4,
 "nbformat_minor": 2
}
