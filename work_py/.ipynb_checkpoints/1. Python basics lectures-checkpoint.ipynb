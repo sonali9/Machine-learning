{
 "cells": [
  {
   "cell_type": "code",
   "execution_count": 9,
   "metadata": {},
   "outputs": [
    {
     "name": "stdout",
     "output_type": "stream",
     "text": [
      "10 12\n",
      "12\n"
     ]
    },
    {
     "data": {
      "text/plain": [
       "20"
      ]
     },
     "execution_count": 9,
     "metadata": {},
     "output_type": "execute_result"
    }
   ],
   "source": [
    "#print function\n",
    "a = 10\n",
    "b = 20\n",
    "print(a, end = \" \")\n",
    "print(12)\n",
    "print(12)\n",
    "b"
   ]
  },
  {
   "cell_type": "code",
   "execution_count": 7,
   "metadata": {},
   "outputs": [
    {
     "name": "stdout",
     "output_type": "stream",
     "text": [
      "<class 'int'>\n",
      "<class 'float'>\n",
      "<class 'complex'>\n"
     ]
    }
   ],
   "source": [
    "#variables and types of numbers\n",
    "a = 10\n",
    "print(type(a))\n",
    "b = 12.3\n",
    "print(type(b))\n",
    "a = 2 + 3j\n",
    "print(type(a))"
   ]
  },
  {
   "cell_type": "code",
   "execution_count": 11,
   "metadata": {},
   "outputs": [
    {
     "name": "stdout",
     "output_type": "stream",
     "text": [
      "20\n",
      "2\n",
      "22\n",
      "18\n",
      "40\n",
      "10.0\n",
      "10\n",
      "400\n"
     ]
    }
   ],
   "source": [
    "#operators \n",
    "a = 20\n",
    "b = 2  #or a,b = 20,2\n",
    "c = a + b\n",
    "print(a)\n",
    "print(b)\n",
    "print(c)\n",
    "print(a - b)\n",
    "print(a * b)\n",
    "print(a / b)\n",
    "print(a // b)\n",
    "print(a ** b)"
   ]
  },
  {
   "cell_type": "code",
   "execution_count": 12,
   "metadata": {},
   "outputs": [
    {
     "name": "stdout",
     "output_type": "stream",
     "text": [
      "Hello World\n"
     ]
    },
    {
     "data": {
      "text/plain": [
       "'Hello World'"
      ]
     },
     "execution_count": 12,
     "metadata": {},
     "output_type": "execute_result"
    }
   ],
   "source": [
    "#string\n",
    "a = \"Hello World\"\n",
    "print(a)\n",
    "a"
   ]
  },
  {
   "cell_type": "code",
   "execution_count": 17,
   "metadata": {},
   "outputs": [
    {
     "name": "stdout",
     "output_type": "stream",
     "text": [
      "6\n",
      "<class 'str'>\n",
      "Hello World Again\n",
      "<class 'str'>\n"
     ]
    }
   ],
   "source": [
    "#String properties\n",
    "print(len(a))\n",
    "print(type(a))\n",
    "#Strings are immutable but can be referenced to a new string\n",
    "# a[0] = 2 is invalid\n",
    "a = \"Hello \" # valid as string is not being changed, reference is changed\n",
    "b = \"World Again\"\n",
    "c = a + b\n",
    "print(c)\n",
    "# d = a + 2 is invalid\n",
    "# no characters in string\n",
    "print(type('2'))"
   ]
  },
  {
   "cell_type": "code",
   "execution_count": 19,
   "metadata": {},
   "outputs": [
    {
     "name": "stdout",
     "output_type": "stream",
     "text": [
      " ABC \n",
      " abc \n",
      " abc \n",
      "abc\n",
      " abc \n",
      "abc\n",
      "True\n"
     ]
    }
   ],
   "source": [
    "# string functions\n",
    "a = \" abc \"\n",
    "print(a.upper())\n",
    "print(a)\n",
    "print(a.lower())\n",
    "print(a.strip())\n",
    "print(a)\n",
    "a = a.strip()\n",
    "print(a)\n",
    "print(a.isalpha())"
   ]
  },
  {
   "cell_type": "code",
   "execution_count": 21,
   "metadata": {},
   "outputs": [
    {
     "name": "stdout",
     "output_type": "stream",
     "text": [
      "123\n",
      "123\n",
      "<class 'str'>\n",
      "123\n",
      "123\n",
      "<class 'int'>\n"
     ]
    }
   ],
   "source": [
    "# user input\n",
    "a = input()\n",
    "print(a)\n",
    "print(type(a))\n",
    "\n",
    "# input returns string\n",
    "a = int(input())\n",
    "print(a)\n",
    "print(type(a))"
   ]
  },
  {
   "cell_type": "code",
   "execution_count": 22,
   "metadata": {},
   "outputs": [],
   "source": [
    "# MCQ\n",
    "\n",
    "# 1) Which of the following is an invalid statement ? ans: a b c = 100 200 300\n",
    "# valid ans: abc = 1,000  a,b,c = 10,20,30  a_b_c = 1,000\n",
    "#spaces not allowed in variable names\n",
    "\n",
    "# 2) Strings in Python are - ans: immutable\n",
    "\n",
    "# 3) What is the output when following code is executed ?  \n",
    "# s = \"abcd\"\n",
    "# s.upper()\n",
    "# print(s)      ans: abcd\n",
    "\n",
    "# 4) What is output of following code ?\n",
    "#  s = \"abcd\"\n",
    "# print(s + 12)  ans: error\n",
    "#You can’t add int to a string. Right way to add will be s + str(12) i.e. convert 12 to string first and then add."
   ]
  },
  {
   "cell_type": "code",
   "execution_count": 24,
   "metadata": {},
   "outputs": [
    {
     "name": "stdout",
     "output_type": "stream",
     "text": [
      "a\n",
      "c\n"
     ]
    }
   ],
   "source": [
    "# negative indexing\n",
    "a = \"abc\"\n",
    "print(a[0])\n",
    "print(a[-1]) "
   ]
  },
  {
   "cell_type": "code",
   "execution_count": 25,
   "metadata": {},
   "outputs": [
    {
     "name": "stdout",
     "output_type": "stream",
     "text": [
      "bcd\n",
      "def\n",
      "efg\n",
      "abcd\n"
     ]
    }
   ],
   "source": [
    "# slicing\n",
    "a = \"abcdefg\"\n",
    "print(a[1:4])\n",
    "print(a[-4:-1])\n",
    "print(a[4:])\n",
    "print(a[:4])"
   ]
  },
  {
   "cell_type": "code",
   "execution_count": 26,
   "metadata": {},
   "outputs": [],
   "source": [
    "# 1) What is the output when following statement is executed ?  \"abcd\"[2:]\n",
    "# ans: cd  \n",
    "#Slice operation is performed on string. So result will be all chars starting from index 2 to last index.\n",
    "\n",
    "# 2) What is the output when following code is executed ?\n",
    "# str1 = 'hello'\n",
    "# print(str1[-1:])  ans:  o\n",
    "#-1 corresponds to the last index.\n",
    "\n",
    "# 3) output of s=\"abcdefghi\"  s[-3:-1]           ans: gh"
   ]
  },
  {
   "cell_type": "code",
   "execution_count": 27,
   "metadata": {},
   "outputs": [
    {
     "name": "stdout",
     "output_type": "stream",
     "text": [
      "<class 'tuple'>\n",
      "1\n",
      "(1, 'sd4f')\n"
     ]
    }
   ],
   "source": [
    "# tuple\n",
    "t = (1, 2, 3)\n",
    "print(type(t))\n",
    "print(t[0])\n",
    "\n",
    "t = (1, \"sd4f\", 2.4)\n",
    "\n",
    "# it is immutable\n",
    "# t = 12 invalid\n",
    "# can be sliced\n",
    "print(t[0:2])"
   ]
  },
  {
   "cell_type": "code",
   "execution_count": 31,
   "metadata": {},
   "outputs": [
    {
     "name": "stdout",
     "output_type": "stream",
     "text": [
      "(1, 2, 'd', 1)\n",
      "(1, 2, 1, 2)\n",
      "True\n",
      "False\n"
     ]
    }
   ],
   "source": [
    "# operators\n",
    "t = (1, 2)\n",
    "k = (\"d\", 1)\n",
    "print(t + k)\n",
    "# t * k invalid\n",
    "print(t * 2)\n",
    "print(1 in t)\n",
    "print(2 in k)"
   ]
  },
  {
   "cell_type": "code",
   "execution_count": null,
   "metadata": {},
   "outputs": [],
   "source": []
  }
 ],
 "metadata": {
  "kernelspec": {
   "display_name": "Python 3",
   "language": "python",
   "name": "python3"
  },
  "language_info": {
   "codemirror_mode": {
    "name": "ipython",
    "version": 3
   },
   "file_extension": ".py",
   "mimetype": "text/x-python",
   "name": "python",
   "nbconvert_exporter": "python",
   "pygments_lexer": "ipython3",
   "version": "3.6.4"
  }
 },
 "nbformat": 4,
 "nbformat_minor": 2
}
