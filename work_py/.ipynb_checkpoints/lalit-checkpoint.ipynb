{
 "cells": [
  {
   "cell_type": "code",
   "execution_count": 1,
   "metadata": {
    "colab": {
     "base_uri": "https://localhost:8080/",
     "height": 356
    },
    "colab_type": "code",
    "id": "e2TSkF9mAbUa",
    "outputId": "00b1c9bb-0dff-4bf0-e0f2-4567127dcec4"
   },
   "outputs": [
    {
     "name": "stdout",
     "output_type": "stream",
     "text": [
      "Collecting gputil\n",
      "  Downloading https://files.pythonhosted.org/packages/45/99/837428d26b47ebd6b66d6e1b180e98ec4a557767a93a81a02ea9d6242611/GPUtil-1.3.0.tar.gz\n",
      "Requirement already satisfied: numpy in /usr/local/lib/python3.6/dist-packages (from gputil) (1.14.5)\n",
      "Building wheels for collected packages: gputil\n",
      "  Running setup.py bdist_wheel for gputil ... \u001b[?25l-\b \bdone\n",
      "\u001b[?25h  Stored in directory: /root/.cache/pip/wheels/17/0f/04/b79c006972335e35472c0b835ed52bfc0815258d409f560108\n",
      "Successfully built gputil\n",
      "Installing collected packages: gputil\n",
      "Successfully installed gputil-1.3.0\n",
      "Requirement already satisfied: psutil in /usr/local/lib/python3.6/dist-packages (5.4.7)\n",
      "Collecting humanize\n",
      "  Downloading https://files.pythonhosted.org/packages/8c/e0/e512e4ac6d091fc990bbe13f9e0378f34cf6eecd1c6c268c9e598dcf5bb9/humanize-0.5.1.tar.gz\n",
      "Building wheels for collected packages: humanize\n",
      "  Running setup.py bdist_wheel for humanize ... \u001b[?25l-\b \bdone\n",
      "\u001b[?25h  Stored in directory: /root/.cache/pip/wheels/69/86/6c/f8b8593bc273ec4b0c653d3827f7482bb2001a2781a73b7f44\n",
      "Successfully built humanize\n",
      "Installing collected packages: humanize\n",
      "Successfully installed humanize-0.5.1\n"
     ]
    }
   ],
   "source": [
    "!ln -sf /opt/bin/nvidia-smi /usr/bin/nvidia-smi\n",
    "!pip install gputil\n",
    "!pip install psutil\n",
    "!pip install humanize"
   ]
  },
  {
   "cell_type": "code",
   "execution_count": 2,
   "metadata": {
    "colab": {
     "base_uri": "https://localhost:8080/",
     "height": 51
    },
    "colab_type": "code",
    "id": "qlH4K06vpG3z",
    "outputId": "e8b56523-aeed-431f-cfcb-623353f7d99e"
   },
   "outputs": [
    {
     "name": "stdout",
     "output_type": "stream",
     "text": [
      "Gen RAM Free: 12.7 GB  | Proc size: 139.5 MB\n",
      "GPU RAM Free: 11439MB | Used: 0MB | Util   0% | Total 11439MB\n"
     ]
    }
   ],
   "source": [
    "import psutil\n",
    "import humanize\n",
    "import os\n",
    "import GPUtil as GPU\n",
    "GPUs = GPU.getGPUs()\n",
    "# XXX: only one GPU on Colab and isn’t guaranteed\n",
    "gpu = GPUs[0]\n",
    "def printm():\n",
    " process = psutil.Process(os.getpid())\n",
    " print(\"Gen RAM Free: \" + humanize.naturalsize( psutil.virtual_memory().available ), \" | Proc size: \" + humanize.naturalsize( process.memory_info().rss))\n",
    " print(\"GPU RAM Free: {0:.0f}MB | Used: {1:.0f}MB | Util {2:3.0f}% | Total {3:.0f}MB\".format(gpu.memoryFree, gpu.memoryUsed, gpu.memoryUtil*100, gpu.memoryTotal))\n",
    "printm()"
   ]
  },
  {
   "cell_type": "markdown",
   "metadata": {
    "colab_type": "text",
    "id": "7ZbGM-G9M1vT"
   },
   "source": [
    "For Checking Available Resources"
   ]
  },
  {
   "cell_type": "markdown",
   "metadata": {
    "colab_type": "text",
    "id": "T1L64GawNF6q"
   },
   "source": [
    "If gpu memory is not available even after restarting runtime, run this"
   ]
  },
  {
   "cell_type": "code",
   "execution_count": 0,
   "metadata": {
    "colab": {},
    "colab_type": "code",
    "id": "lWlb3zgt6Mpu"
   },
   "outputs": [],
   "source": []
  },
  {
   "cell_type": "code",
   "execution_count": 0,
   "metadata": {
    "colab": {},
    "colab_type": "code",
    "id": "UBKgg_AQoSgi"
   },
   "outputs": [],
   "source": [
    "#!kill -9 -1"
   ]
  },
  {
   "cell_type": "markdown",
   "metadata": {
    "colab_type": "text",
    "id": "LHY0v0zgM_JM"
   },
   "source": [
    "For using google drive in colab"
   ]
  },
  {
   "cell_type": "code",
   "execution_count": 3,
   "metadata": {
    "colab": {
     "base_uri": "https://localhost:8080/",
     "height": 2401
    },
    "colab_type": "code",
    "id": "LS4hJjg6AmUO",
    "outputId": "117d23b9-3e91-4301-b281-186e6b07de49"
   },
   "outputs": [
    {
     "name": "stdout",
     "output_type": "stream",
     "text": [
      "Preconfiguring packages ...\n",
      "Selecting previously unselected package cron.\n",
      "(Reading database ... 18408 files and directories currently installed.)\n",
      "Preparing to unpack .../00-cron_3.0pl1-128ubuntu5_amd64.deb ...\n",
      "Unpacking cron (3.0pl1-128ubuntu5) ...\n",
      "Selecting previously unselected package libapparmor1:amd64.\n",
      "Preparing to unpack .../01-libapparmor1_2.11.0-2ubuntu17.1_amd64.deb ...\n",
      "Unpacking libapparmor1:amd64 (2.11.0-2ubuntu17.1) ...\n",
      "Selecting previously unselected package libdbus-1-3:amd64.\n",
      "Preparing to unpack .../02-libdbus-1-3_1.10.22-1ubuntu1_amd64.deb ...\n",
      "Unpacking libdbus-1-3:amd64 (1.10.22-1ubuntu1) ...\n",
      "Selecting previously unselected package dbus.\n",
      "Preparing to unpack .../03-dbus_1.10.22-1ubuntu1_amd64.deb ...\n",
      "Unpacking dbus (1.10.22-1ubuntu1) ...\n",
      "Selecting previously unselected package dirmngr.\n",
      "Preparing to unpack .../04-dirmngr_2.1.15-1ubuntu8.1_amd64.deb ...\n",
      "Unpacking dirmngr (2.1.15-1ubuntu8.1) ...\n",
      "Selecting previously unselected package distro-info-data.\n",
      "Preparing to unpack .../05-distro-info-data_0.36ubuntu0.2_all.deb ...\n",
      "Unpacking distro-info-data (0.36ubuntu0.2) ...\n",
      "Selecting previously unselected package libkmod2:amd64.\n",
      "Preparing to unpack .../06-libkmod2_24-1ubuntu2_amd64.deb ...\n",
      "Unpacking libkmod2:amd64 (24-1ubuntu2) ...\n",
      "Selecting previously unselected package kmod.\n",
      "Preparing to unpack .../07-kmod_24-1ubuntu2_amd64.deb ...\n",
      "Unpacking kmod (24-1ubuntu2) ...\n",
      "Selecting previously unselected package lsb-release.\n",
      "Preparing to unpack .../08-lsb-release_9.20160110ubuntu5_all.deb ...\n",
      "Unpacking lsb-release (9.20160110ubuntu5) ...\n",
      "Selecting previously unselected package libgirepository-1.0-1:amd64.\n",
      "Preparing to unpack .../09-libgirepository-1.0-1_1.54.1-1_amd64.deb ...\n",
      "Unpacking libgirepository-1.0-1:amd64 (1.54.1-1) ...\n",
      "Selecting previously unselected package gir1.2-glib-2.0:amd64.\n",
      "Preparing to unpack .../10-gir1.2-glib-2.0_1.54.1-1_amd64.deb ...\n",
      "Unpacking gir1.2-glib-2.0:amd64 (1.54.1-1) ...\n",
      "Selecting previously unselected package iso-codes.\n",
      "Preparing to unpack .../11-iso-codes_3.75-1_all.deb ...\n",
      "Unpacking iso-codes (3.75-1) ...\n",
      "Selecting previously unselected package libdbus-glib-1-2:amd64.\n",
      "Preparing to unpack .../12-libdbus-glib-1-2_0.108-2_amd64.deb ...\n",
      "Unpacking libdbus-glib-1-2:amd64 (0.108-2) ...\n",
      "Selecting previously unselected package python-apt-common.\n",
      "Preparing to unpack .../13-python-apt-common_1.4.0~beta3build2_all.deb ...\n",
      "Unpacking python-apt-common (1.4.0~beta3build2) ...\n",
      "Selecting previously unselected package python3-apt.\n",
      "Preparing to unpack .../14-python3-apt_1.4.0~beta3build2_amd64.deb ...\n",
      "Unpacking python3-apt (1.4.0~beta3build2) ...\n",
      "Selecting previously unselected package python3-dbus.\n",
      "Preparing to unpack .../15-python3-dbus_1.2.4-1build3_amd64.deb ...\n",
      "Unpacking python3-dbus (1.2.4-1build3) ...\n",
      "Selecting previously unselected package python3-gi.\n",
      "Preparing to unpack .../16-python3-gi_3.24.1-2build1_amd64.deb ...\n",
      "Unpacking python3-gi (3.24.1-2build1) ...\n",
      "Selecting previously unselected package module-init-tools.\n",
      "Preparing to unpack .../17-module-init-tools_24-1ubuntu2_all.deb ...\n",
      "Unpacking module-init-tools (24-1ubuntu2) ...\n",
      "Selecting previously unselected package python-apt.\n",
      "Preparing to unpack .../18-python-apt_1.4.0~beta3build2_amd64.deb ...\n",
      "Unpacking python-apt (1.4.0~beta3build2) ...\n",
      "Selecting previously unselected package python-pycurl.\n",
      "Preparing to unpack .../19-python-pycurl_7.43.0-2build2_amd64.deb ...\n",
      "Unpacking python-pycurl (7.43.0-2build2) ...\n",
      "Selecting previously unselected package python-software-properties.\n",
      "Preparing to unpack .../20-python-software-properties_0.96.24.17_all.deb ...\n",
      "Unpacking python-software-properties (0.96.24.17) ...\n",
      "Selecting previously unselected package python3-software-properties.\n",
      "Preparing to unpack .../21-python3-software-properties_0.96.24.17_all.deb ...\n",
      "Unpacking python3-software-properties (0.96.24.17) ...\n",
      "Selecting previously unselected package software-properties-common.\n",
      "Preparing to unpack .../22-software-properties-common_0.96.24.17_all.deb ...\n",
      "Unpacking software-properties-common (0.96.24.17) ...\n",
      "Selecting previously unselected package unattended-upgrades.\n",
      "Preparing to unpack .../23-unattended-upgrades_0.98ubuntu1.1_all.deb ...\n",
      "Unpacking unattended-upgrades (0.98ubuntu1.1) ...\n",
      "Setting up python-apt-common (1.4.0~beta3build2) ...\n",
      "Setting up python3-apt (1.4.0~beta3build2) ...\n",
      "Setting up iso-codes (3.75-1) ...\n",
      "Setting up distro-info-data (0.36ubuntu0.2) ...\n",
      "Setting up python-pycurl (7.43.0-2build2) ...\n",
      "Setting up lsb-release (9.20160110ubuntu5) ...\n",
      "Setting up libgirepository-1.0-1:amd64 (1.54.1-1) ...\n",
      "Setting up libkmod2:amd64 (24-1ubuntu2) ...\n",
      "Setting up gir1.2-glib-2.0:amd64 (1.54.1-1) ...\n",
      "Processing triggers for libc-bin (2.26-0ubuntu2.1) ...\n",
      "Setting up libapparmor1:amd64 (2.11.0-2ubuntu17.1) ...\n",
      "Setting up unattended-upgrades (0.98ubuntu1.1) ...\n",
      "\n",
      "Creating config file /etc/apt/apt.conf.d/20auto-upgrades with new version\n",
      "\n",
      "Creating config file /etc/apt/apt.conf.d/50unattended-upgrades with new version\n",
      "invoke-rc.d: could not determine current runlevel\n",
      "invoke-rc.d: policy-rc.d denied execution of start.\n",
      "Setting up dirmngr (2.1.15-1ubuntu8.1) ...\n",
      "Setting up cron (3.0pl1-128ubuntu5) ...\n",
      "Adding group `crontab' (GID 102) ...\n",
      "Done.\n",
      "update-rc.d: warning: start and stop actions are no longer supported; falling back to defaults\n",
      "update-rc.d: warning: stop runlevel arguments (1) do not match cron Default-Stop values (none)\n",
      "invoke-rc.d: could not determine current runlevel\n",
      "invoke-rc.d: policy-rc.d denied execution of start.\n",
      "Setting up libdbus-1-3:amd64 (1.10.22-1ubuntu1) ...\n",
      "Setting up kmod (24-1ubuntu2) ...\n",
      "Setting up libdbus-glib-1-2:amd64 (0.108-2) ...\n",
      "Setting up python3-gi (3.24.1-2build1) ...\n",
      "Setting up module-init-tools (24-1ubuntu2) ...\n",
      "Setting up python3-software-properties (0.96.24.17) ...\n",
      "Setting up dbus (1.10.22-1ubuntu1) ...\n",
      "Setting up python-apt (1.4.0~beta3build2) ...\n",
      "Setting up python3-dbus (1.2.4-1build3) ...\n",
      "Setting up python-software-properties (0.96.24.17) ...\n",
      "Setting up software-properties-common (0.96.24.17) ...\n",
      "Processing triggers for libc-bin (2.26-0ubuntu2.1) ...\n",
      "Processing triggers for dbus (1.10.22-1ubuntu1) ...\n",
      "gpg: keybox '/tmp/tmp3i3t9sfq/pubring.gpg' created\n",
      "gpg: /tmp/tmp3i3t9sfq/trustdb.gpg: trustdb created\n",
      "gpg: key AD5F235DF639B041: public key \"Launchpad PPA for Alessandro Strada\" imported\n",
      "gpg: Total number processed: 1\n",
      "gpg:               imported: 1\n",
      "Warning: apt-key output should not be parsed (stdout is not a terminal)\n",
      "Selecting previously unselected package libfuse2:amd64.\n",
      "(Reading database ... 19816 files and directories currently installed.)\n",
      "Preparing to unpack .../libfuse2_2.9.7-1ubuntu1_amd64.deb ...\n",
      "Unpacking libfuse2:amd64 (2.9.7-1ubuntu1) ...\n",
      "Selecting previously unselected package fuse.\n",
      "Preparing to unpack .../fuse_2.9.7-1ubuntu1_amd64.deb ...\n",
      "Unpacking fuse (2.9.7-1ubuntu1) ...\n",
      "Selecting previously unselected package google-drive-ocamlfuse.\n",
      "Preparing to unpack .../google-drive-ocamlfuse_0.6.21-0ubuntu2_amd64.deb ...\n",
      "Unpacking google-drive-ocamlfuse (0.6.21-0ubuntu2) ...\n",
      "Setting up libfuse2:amd64 (2.9.7-1ubuntu1) ...\n",
      "Processing triggers for libc-bin (2.26-0ubuntu2.1) ...\n",
      "Setting up fuse (2.9.7-1ubuntu1) ...\n",
      "Setting up google-drive-ocamlfuse (0.6.21-0ubuntu2) ...\n"
     ]
    }
   ],
   "source": [
    "!apt-get update -qq 2>&1 > /dev/null\n",
    "!apt-get install -y -qq software-properties-common python-software-properties module-init-tools\n",
    "!add-apt-repository -y ppa:alessandro-strada/ppa 2>&1 > /dev/null\n",
    "!apt-get update -qq 2>&1 > /dev/null\n",
    "!apt-get -y install -qq google-drive-ocamlfuse fuse"
   ]
  },
  {
   "cell_type": "code",
   "execution_count": 0,
   "metadata": {
    "colab": {},
    "colab_type": "code",
    "id": "9LscjhKQZiNu"
   },
   "outputs": [],
   "source": []
  },
  {
   "cell_type": "code",
   "execution_count": 0,
   "metadata": {
    "colab": {},
    "colab_type": "code",
    "id": "iFsd7Z1JUz6O"
   },
   "outputs": [],
   "source": [
    "from google.colab import auth\n",
    "auth.authenticate_user()"
   ]
  },
  {
   "cell_type": "code",
   "execution_count": 5,
   "metadata": {
    "colab": {
     "base_uri": "https://localhost:8080/",
     "height": 125
    },
    "colab_type": "code",
    "id": "tZn1UPBqU-vk",
    "outputId": "d25d488a-8bff-4bc5-f886-192e3ae64eda"
   },
   "outputs": [
    {
     "name": "stdout",
     "output_type": "stream",
     "text": [
      "Please, open the following URL in a web browser: https://accounts.google.com/o/oauth2/auth?client_id=32555940559.apps.googleusercontent.com&redirect_uri=urn%3Aietf%3Awg%3Aoauth%3A2.0%3Aoob&scope=https%3A%2F%2Fwww.googleapis.com%2Fauth%2Fdrive&response_type=code&access_type=offline&approval_prompt=force\n",
      "\n",
      "Enter verification code: ··········\n",
      "Please, open the following URL in a web browser: https://accounts.google.com/o/oauth2/auth?client_id=32555940559.apps.googleusercontent.com&redirect_uri=urn%3Aietf%3Awg%3Aoauth%3A2.0%3Aoob&scope=https%3A%2F%2Fwww.googleapis.com%2Fauth%2Fdrive&response_type=code&access_type=offline&approval_prompt=force\n",
      "Please enter the verification code: Access token retrieved correctly.\n"
     ]
    }
   ],
   "source": [
    "# Generate creds for the Drive FUSE library.\n",
    "from oauth2client.client import GoogleCredentials\n",
    "creds = GoogleCredentials.get_application_default()\n",
    "import getpass\n",
    "# Work around misordering of STREAM and STDIN in Jupyter.\n",
    "# https://github.com/jupyter/notebook/issues/3159\n",
    "prompt = !google-drive-ocamlfuse -headless -id={creds.client_id} -secret={creds.client_secret} < /dev/null 2>&1 | grep URL\n",
    "vcode = getpass.getpass(prompt[0] + '\\n\\nEnter verification code: ')\n",
    "!echo {vcode} | google-drive-ocamlfuse -headless -id={creds.client_id} -secret={creds.client_secret}\n"
   ]
  },
  {
   "cell_type": "code",
   "execution_count": 0,
   "metadata": {
    "colab": {},
    "colab_type": "code",
    "id": "-brz0hEzbMGb"
   },
   "outputs": [],
   "source": []
  },
  {
   "cell_type": "code",
   "execution_count": 0,
   "metadata": {
    "colab": {},
    "colab_type": "code",
    "id": "yEv3ysAfVIJT"
   },
   "outputs": [],
   "source": [
    "!mkdir -p drive\n",
    "!google-drive-ocamlfuse drive"
   ]
  },
  {
   "cell_type": "code",
   "execution_count": 7,
   "metadata": {
    "colab": {
     "base_uri": "https://localhost:8080/",
     "height": 34
    },
    "colab_type": "code",
    "id": "DR4-74Q3Uw63",
    "outputId": "d744a839-469c-48bd-da34-1c885bb39248"
   },
   "outputs": [
    {
     "name": "stdout",
     "output_type": "stream",
     "text": [
      "adc.json  datalab  drive  sample_data\r\n"
     ]
    }
   ],
   "source": [
    "!ls"
   ]
  },
  {
   "cell_type": "code",
   "execution_count": 0,
   "metadata": {
    "colab": {},
    "colab_type": "code",
    "id": "-dddtPGEpD8b"
   },
   "outputs": [],
   "source": [
    "import numpy as np\n",
    "import matplotlib.pyplot as plt\n",
    "from sklearn.svm import SVC\n",
    "from sklearn.preprocessing import OneHotEncoder, StandardScaler\n",
    "from sklearn.model_selection import GridSearchCV"
   ]
  },
  {
   "cell_type": "code",
   "execution_count": 0,
   "metadata": {
    "colab": {},
    "colab_type": "code",
    "id": "9D97v-AyqjyM"
   },
   "outputs": [],
   "source": [
    "X_train_pca = np.loadtxt(r\"drive/CIFAR10/X_train.csv\")\n",
    "X_test_pca = np.loadtxt(r\"drive/CIFAR10/X_test.csv\")"
   ]
  },
  {
   "cell_type": "code",
   "execution_count": 0,
   "metadata": {
    "colab": {},
    "colab_type": "code",
    "id": "oJLkJnXko8SR"
   },
   "outputs": [],
   "source": [
    "scaler = StandardScaler()\n",
    "X_train = scaler.fit_transform(X_train_pca)\n",
    "X_test = scaler.transform(X_test_pca)"
   ]
  },
  {
   "cell_type": "code",
   "execution_count": 0,
   "metadata": {
    "colab": {},
    "colab_type": "code",
    "id": "Pe9-_P8imGK6"
   },
   "outputs": [],
   "source": [
    "Y_train = np.loadtxt(r\"drive/CIFAR10/Y_train.csv\")\n",
    "Y_test = np.loadtxt(r\"drive/CIFAR10/Y_test.csv\")\n",
    "class_names = np.loadtxt(r\"drive/CIFAR10/class_names.csv\", dtype = str)"
   ]
  },
  {
   "cell_type": "code",
   "execution_count": 12,
   "metadata": {
    "colab": {
     "base_uri": "https://localhost:8080/",
     "height": 34
    },
    "colab_type": "code",
    "id": "TAC5C-nYw-tA",
    "outputId": "fc17439f-a498-4c83-dd61-6e1f037690f3"
   },
   "outputs": [
    {
     "data": {
      "text/plain": [
       "658"
      ]
     },
     "execution_count": 12,
     "metadata": {
      "tags": []
     },
     "output_type": "execute_result"
    }
   ],
   "source": [
    "k = X_train_pca.shape[1]\n",
    "k"
   ]
  },
  {
   "cell_type": "code",
   "execution_count": 13,
   "metadata": {
    "colab": {
     "base_uri": "https://localhost:8080/",
     "height": 51
    },
    "colab_type": "code",
    "id": "iay7_a0gxKVX",
    "outputId": "574a2b9b-79c5-42fc-bf09-ef1f4a38e515"
   },
   "outputs": [
    {
     "name": "stdout",
     "output_type": "stream",
     "text": [
      "(50000, 658) (10000, 658) (50000,) (10000,) (10,)\n",
      "(50000, 658) (10000, 658) (50000,) (10000,) (10,)\n"
     ]
    }
   ],
   "source": [
    "print(X_train_pca.shape, X_test_pca.shape, Y_train.shape, Y_test.shape, class_names.shape)\n",
    "print(X_train.shape, X_test.shape, Y_train.shape, Y_test.shape, class_names.shape)"
   ]
  },
  {
   "cell_type": "code",
   "execution_count": 0,
   "metadata": {
    "colab": {},
    "colab_type": "code",
    "id": "93Ec3WLuxYo_"
   },
   "outputs": [],
   "source": [
    "clf = SVC()\n",
    "#param_grid = { 'C' : [1e-4, 1e-2, 1, 1e2, 1e4], 'gamma' : [5e-1, 5e-3, 5e-5, 5e-7], 'kernel' : [ 'linear', 'poly', 'rbf', 'sigmoid', 'precomputed'], 'max_iter' : [200], 'random_state' : [0]}\n",
    "\n",
    "#param_grid = { 'C' : [1e-4, 1e-2, 1, 1e2, 1e4], 'gamma' : [5e-1, 5e-2, 5e-3, 5e-5, 5e-7], 'kernel' : ['sigmoid', 'rbf'], 'max_iter' : [20], 'random_state' : [0]}\n",
    "#param_grid = { 'C' : [1e-2, 1e-1,1e1, 1e2,], 'gamma' : [5e-2, 5e-3, 5e-7], 'kernel' : ['sigmoid', 'rbf'], 'max_iter' : [50], 'random_state' : [0]}\n",
    "#param_grid = { 'C' : [6.5e-1, 7e-1,7.5e-1], 'gamma' : [3e-3, 5e-3, 8e-3], 'kernel' : ['sigmoid'], 'max_iter' : [10], 'random_state' : [0]}\n",
    "#param_grid = { 'C' : [5e-2, 1e-1, 7e-1, 1, 10], 'gamma' : [5e-3], 'kernel' : ['sigmoid'], 'max_iter' : [10], 'random_state' : [0]}\n",
    "#param_grid = { 'C' : [7e-1], 'gamma' : [5e-3], 'kernel' : ['sigmoid'], 'max_iter' : [-1], 'random_state' : [0]}\n",
    "\n",
    "#param_grid = { 'C' : [1e-4, 1e-2, 1, 1e2, 1e4], 'gamma' : [5e-1, 5e-2, 5e-3, 5e-5, 5e-7], 'kernel' : ['sigmoid', 'rbf'], 'max_iter' : [20], 'random_state' : [0]}\n",
    "\n",
    "#param_grid = { 'C' : [1e-4, 1e-3, 1e-2, 1e-1, 1, 1e2, 1e3, 1e4], 'gamma' : [1e-3, 3e-3, 5e-3, 7e-3], 'kernel' : ['rbf'], 'max_iter' : [20], 'random_state' : [0]}\n",
    "\n",
    "param_grid = { 'C' : [1e-3, 1e-2, 1e-1, 1, 1e2, 1e3], 'gamma' : [1e-3, 3e-3, 5e-3, 7e-3], 'kernel' : ['rbf'], 'max_iter' : [20], 'random_state' : [0]}\n",
    "\n",
    "#clf = GridSearchCV(SVC(), param_grid= param_grid, verbose=3, n_jobs=1, refit=True, cv=10)\n",
    "\n",
    "clf = GridSearchCV(SVC(), param_grid= param_grid, verbose=5, n_jobs=1, cv = 2, refit=False)\n"
   ]
  },
  {
   "cell_type": "code",
   "execution_count": 0,
   "metadata": {
    "colab": {},
    "colab_type": "code",
    "id": "FsGau8s00WaF"
   },
   "outputs": [],
   "source": [
    "# C 1 gamma 5e-5 rbf best\n",
    "import time\n",
    "st = time.time()\n",
    "clf.fit(X_train, Y_train)\n",
    "et = time.time()\n",
    "rt = (et-st)/60\n",
    "print(\"Total Runtime\", round(rt, 2))"
   ]
  },
  {
   "cell_type": "code",
   "execution_count": 0,
   "metadata": {
    "colab": {},
    "colab_type": "code",
    "id": "tIshIwmYG03z"
   },
   "outputs": [],
   "source": [
    "\"\"\"\n",
    "SVC(C=1, cache_size=200, class_weight=None, coef0=0.0,\n",
    "  decision_function_shape='ovr', degree=3, gamma=0.005, kernel='rbf',\n",
    "  max_iter=200, probability=False, random_state=0, shrinking=True,\n",
    "  tol=0.001, verbose=False) 0.3\n",
    "  \n",
    "SVC(C=0.1, cache_size=200, class_weight=None, coef0=0.0,\n",
    "  decision_function_shape='ovr', degree=3, gamma=0.005, kernel='sigmoid',\n",
    "  max_iter=50, probability=False, random_state=0, shrinking=True,\n",
    "  tol=0.001, verbose=False)\n",
    "SVC(C=0.7, cache_size=200, class_weight=None, coef0=0.0,\n",
    "  decision_function_shape='ovr', degree=3, gamma=0.005, kernel='sigmoid',\n",
    "  max_iter=10, probability=False, random_state=0, shrinking=True,\n",
    "  tol=0.001, verbose=False)\n",
    "SVC(C=0.05, cache_size=200, class_weight=None, coef0=0.0,\n",
    "  decision_function_shape='ovr', degree=3, gamma=0.005, kernel='sigmoid',\n",
    "  max_iter=10, probability=False, random_state=0, shrinking=True,\n",
    "  tol=0.001, verbose=False)\n",
    "\"\"\"\n",
    "\n",
    "clf.best_params_"
   ]
  },
  {
   "cell_type": "code",
   "execution_count": 0,
   "metadata": {
    "colab": {},
    "colab_type": "code",
    "id": "h6Y13QuQ-0DM"
   },
   "outputs": [],
   "source": [
    "clf.best_score_"
   ]
  },
  {
   "cell_type": "code",
   "execution_count": 0,
   "metadata": {
    "colab": {},
    "colab_type": "code",
    "id": "Bk6zT8MwuToL"
   },
   "outputs": [],
   "source": []
  },
  {
   "cell_type": "code",
   "execution_count": 0,
   "metadata": {
    "colab": {},
    "colab_type": "code",
    "id": "9i0N6-mBj33V"
   },
   "outputs": [],
   "source": [
    "all_params = clf.cv_results_['params']\n",
    "ranks = clf.cv_results_['rank_test_score']"
   ]
  },
  {
   "cell_type": "code",
   "execution_count": 0,
   "metadata": {
    "colab": {},
    "colab_type": "code",
    "id": "LlTi1zRyB5Tg"
   },
   "outputs": [],
   "source": [
    "\"\"\"\n",
    "\n",
    "{1: {'C': 1,\n",
    "  'gamma': 0.005,\n",
    "  'kernel': 'rbf',\n",
    "  'max_iter': 20,\n",
    "  'random_state': 0},\n",
    " 2: {'C': 0.01,\n",
    "  'gamma': 0.005,\n",
    "  'kernel': 'rbf',\n",
    "  'max_iter': 20,\n",
    "  'random_state': 0},\n",
    " 3: {'C': 0.0001,\n",
    "  'gamma': 0.005,\n",
    "  'kernel': 'rbf',\n",
    "  'max_iter': 20,\n",
    "  'random_state': 0},\n",
    " 4: {'C': 10000.0,\n",
    "  'gamma': 0.005,\n",
    "  'kernel': 'rbf',\n",
    "  'max_iter': 20,\n",
    "  'random_state': 0},\n",
    " 6: {'C': 1,\n",
    "  'gamma': 0.005,\n",
    "  'kernel': 'sigmoid',\n",
    "  'max_iter': 20,\n",
    "  'random_state': 0},\n",
    " 7: {'C': 0.0001,\n",
    "  'gamma': 0.05,\n",
    "  'kernel': 'sigmoid',\n",
    "  'max_iter': 20,\n",
    "  'random_state': 0},\n",
    " 8: {'C': 0.01,\n",
    "  'gamma': 0.05,\n",
    "  'kernel': 'sigmoid',\n",
    "  'max_iter': 20,\n",
    "  'random_state': 0},\n",
    " 9: {'C': 1,\n",
    "  'gamma': 0.05,\n",
    "  'kernel': 'sigmoid',\n",
    "  'max_iter': 20,\n",
    "  'random_state': 0},\n",
    " 10: {'C': 100.0,\n",
    "  'gamma': 0.05,\n",
    "  'kernel': 'sigmoid',\n",
    "  'max_iter': 20,\n",
    "  'random_state': 0},\n",
    " 11: {'C': 10000.0,\n",
    "  'gamma': 0.5,\n",
    "  'kernel': 'sigmoid',\n",
    "  'max_iter': 20,\n",
    "  'random_state': 0},\n",
    " 16: {'C': 10000.0,\n",
    "  'gamma': 0.05,\n",
    "  'kernel': 'sigmoid',\n",
    "  'max_iter': 20,\n",
    "  'random_state': 0},\n",
    " 17: {'C': 0.01,\n",
    "  'gamma': 5e-07,\n",
    "  'kernel': 'rbf',\n",
    "  'max_iter': 20,\n",
    "  'random_state': 0},\n",
    " 18: {'C': 1,\n",
    "  'gamma': 5e-07,\n",
    "  'kernel': 'rbf',\n",
    "  'max_iter': 20,\n",
    "  'random_state': 0},\n",
    " 19: {'C': 0.0001,\n",
    "  'gamma': 5e-07,\n",
    "  'kernel': 'rbf',\n",
    "  'max_iter': 20,\n",
    "  'random_state': 0},\n",
    " 20: {'C': 1,\n",
    "  'gamma': 5e-07,\n",
    "  'kernel': 'sigmoid',\n",
    "  'max_iter': 20,\n",
    "  'random_state': 0},\n",
    " 21: {'C': 0.01,\n",
    "  'gamma': 5e-07,\n",
    "  'kernel': 'sigmoid',\n",
    "  'max_iter': 20,\n",
    "  'random_state': 0},\n",
    " 24: {'C': 0.0001,\n",
    "  'gamma': 5e-05,\n",
    "  'kernel': 'sigmoid',\n",
    "  'max_iter': 20,\n",
    "  'random_state': 0},\n",
    " 25: {'C': 1,\n",
    "  'gamma': 5e-05,\n",
    "  'kernel': 'sigmoid',\n",
    "  'max_iter': 20,\n",
    "  'random_state': 0},\n",
    " 26: {'C': 100.0,\n",
    "  'gamma': 5e-07,\n",
    "  'kernel': 'sigmoid',\n",
    "  'max_iter': 20,\n",
    "  'random_state': 0},\n",
    " 27: {'C': 100.0,\n",
    "  'gamma': 0.005,\n",
    "  'kernel': 'sigmoid',\n",
    "  'max_iter': 20,\n",
    "  'random_state': 0},\n",
    " 28: {'C': 0.01,\n",
    "  'gamma': 0.005,\n",
    "  'kernel': 'sigmoid',\n",
    "  'max_iter': 20,\n",
    "  'random_state': 0},\n",
    " 29: {'C': 100.0,\n",
    "  'gamma': 5e-07,\n",
    "  'kernel': 'rbf',\n",
    "  'max_iter': 20,\n",
    "  'random_state': 0},\n",
    " 30: {'C': 0.0001,\n",
    "  'gamma': 0.005,\n",
    "  'kernel': 'sigmoid',\n",
    "  'max_iter': 20,\n",
    "  'random_state': 0},\n",
    " 31: {'C': 10000.0,\n",
    "  'gamma': 0.005,\n",
    "  'kernel': 'sigmoid',\n",
    "  'max_iter': 20,\n",
    "  'random_state': 0},\n",
    " 32: {'C': 10000.0,\n",
    "  'gamma': 5e-05,\n",
    "  'kernel': 'rbf',\n",
    "  'max_iter': 20,\n",
    "  'random_state': 0},\n",
    " 33: {'C': 100.0,\n",
    "  'gamma': 5e-05,\n",
    "  'kernel': 'rbf',\n",
    "  'max_iter': 20,\n",
    "  'random_state': 0},\n",
    " 34: {'C': 0.0001,\n",
    "  'gamma': 0.5,\n",
    "  'kernel': 'rbf',\n",
    "  'max_iter': 20,\n",
    "  'random_state': 0},\n",
    " 35: {'C': 0.01,\n",
    "  'gamma': 0.5,\n",
    "  'kernel': 'rbf',\n",
    "  'max_iter': 20,\n",
    "  'random_state': 0},\n",
    " 36: {'C': 1,\n",
    "  'gamma': 0.5,\n",
    "  'kernel': 'rbf',\n",
    "  'max_iter': 20,\n",
    "  'random_state': 0},\n",
    " 37: {'C': 1,\n",
    "  'gamma': 0.05,\n",
    "  'kernel': 'rbf',\n",
    "  'max_iter': 20,\n",
    "  'random_state': 0},\n",
    " 38: {'C': 10000.0,\n",
    "  'gamma': 0.5,\n",
    "  'kernel': 'rbf',\n",
    "  'max_iter': 20,\n",
    "  'random_state': 0},\n",
    " 40: {'C': 0.01,\n",
    "  'gamma': 0.05,\n",
    "  'kernel': 'rbf',\n",
    "  'max_iter': 20,\n",
    "  'random_state': 0},\n",
    " 41: {'C': 0.0001,\n",
    "  'gamma': 0.05,\n",
    "  'kernel': 'rbf',\n",
    "  'max_iter': 20,\n",
    "  'random_state': 0},\n",
    " 42: {'C': 10000.0,\n",
    "  'gamma': 0.05,\n",
    "  'kernel': 'rbf',\n",
    "  'max_iter': 20,\n",
    "  'random_state': 0},\n",
    " 44: {'C': 10000.0,\n",
    "  'gamma': 5e-07,\n",
    "  'kernel': 'sigmoid',\n",
    "  'max_iter': 20,\n",
    "  'random_state': 0},\n",
    " 45: {'C': 100.0,\n",
    "  'gamma': 5e-05,\n",
    "  'kernel': 'sigmoid',\n",
    "  'max_iter': 20,\n",
    "  'random_state': 0},\n",
    " 46: {'C': 10000.0,\n",
    "  'gamma': 5e-05,\n",
    "  'kernel': 'sigmoid',\n",
    "  'max_iter': 20,\n",
    "  'random_state': 0},\n",
    " 47: {'C': 10000.0,\n",
    "  'gamma': 5e-07,\n",
    "  'kernel': 'rbf',\n",
    "  'max_iter': 20,\n",
    "  'random_state': 0},\n",
    " 48: {'C': 0.01,\n",
    "  'gamma': 5e-05,\n",
    "  'kernel': 'rbf',\n",
    "  'max_iter': 20,\n",
    "  'random_state': 0},\n",
    " 49: {'C': 0.0001,\n",
    "  'gamma': 5e-05,\n",
    "  'kernel': 'rbf',\n",
    "  'max_iter': 20,\n",
    "  'random_state': 0},\n",
    " 50: {'C': 1,\n",
    "  'gamma': 5e-05,\n",
    "  'kernel': 'rbf',\n",
    "  'max_iter': 20,\n",
    "  'random_state': 0}}\n",
    "\n",
    "\"\"\"\n",
    "\n",
    "\n",
    "rank_dict = {}\n",
    "for i in range(len(ranks)):\n",
    "    rank_dict[ranks[i]] = all_params[i]\n",
    "rank_dict"
   ]
  },
  {
   "cell_type": "code",
   "execution_count": 0,
   "metadata": {
    "colab": {},
    "colab_type": "code",
    "id": "9Mw34EpECQsd"
   },
   "outputs": [],
   "source": []
  },
  {
   "cell_type": "code",
   "execution_count": 0,
   "metadata": {
    "colab": {},
    "colab_type": "code",
    "id": "MoXNBwLfNITB"
   },
   "outputs": [],
   "source": [
    "clf_final = SVC(C = 1, gamma = 0.005, kernel = 'rbf', random_state=0, max_iter=-1)\n",
    "import time\n",
    "st = time.time()\n",
    "clf_final.fit(X_train, Y_train)\n",
    "et = time.time()\n",
    "rt = (et-st)/60\n",
    "print(\"Total Runtime\", round(rt, 2))"
   ]
  },
  {
   "cell_type": "code",
   "execution_count": 0,
   "metadata": {
    "colab": {},
    "colab_type": "code",
    "id": "NyN7cJzU7D7A"
   },
   "outputs": [],
   "source": [
    "from sklearn.metrics import confusion_matrix, classification_report"
   ]
  },
  {
   "cell_type": "code",
   "execution_count": 27,
   "metadata": {
    "colab": {
     "base_uri": "https://localhost:8080/",
     "height": 459
    },
    "colab_type": "code",
    "id": "bcTXR-wLFxd_",
    "outputId": "31db3573-c3be-4ef0-9487-fea2248c4845"
   },
   "outputs": [
    {
     "name": "stdout",
     "output_type": "stream",
     "text": [
      "Total Runtime 6.54\n",
      "[[564  48  70  21  36  16  15  22 109  64]\n",
      " [ 63 631  45  66  33  43  72  71  95 182]\n",
      " [ 56   9 418  93 125  81  76  51  26  11]\n",
      " [ 28  25  80 382  92 224 106  73  29  18]\n",
      " [ 25  21 128  78 481  88 103  93  13  20]\n",
      " [ 15  15  71 159  54 377  49  59  13  12]\n",
      " [ 14  17  69  70  62  35 482  14  12  24]\n",
      " [ 18  17  45  45  61  67  22 509   9  32]\n",
      " [138  56  19  27  22  15   9  18 635  74]\n",
      " [ 79 161  55  59  34  54  66  90  59 563]]\n",
      "             precision    recall  f1-score   support\n",
      "\n",
      "        0.0       0.56      0.58      0.57       965\n",
      "        1.0       0.63      0.49      0.55      1301\n",
      "        2.0       0.42      0.44      0.43       946\n",
      "        3.0       0.38      0.36      0.37      1057\n",
      "        4.0       0.48      0.46      0.47      1050\n",
      "        5.0       0.38      0.46      0.41       824\n",
      "        6.0       0.48      0.60      0.54       799\n",
      "        7.0       0.51      0.62      0.56       825\n",
      "        8.0       0.64      0.63      0.63      1013\n",
      "        9.0       0.56      0.46      0.51      1220\n",
      "\n",
      "avg / total       0.51      0.50      0.50     10000\n",
      "\n"
     ]
    }
   ],
   "source": [
    "st = time.time()\n",
    "\n",
    "#Y_train_pred = clf_final.predict(X_train)\n",
    "Y_test_pred = clf_final.predict(X_test)\n",
    "\n",
    "et = time.time()\n",
    "rt = (et-st)/60\n",
    "print(\"Total Runtime\", round(rt, 2))\n",
    "\n",
    "#print(confusion_matrix(Y_train_pred, Y_train))\n",
    "#print(classification_report(Y_train_pred, Y_train))\n",
    "print(confusion_matrix(Y_test_pred, Y_test))\n",
    "print(classification_report(Y_test_pred, Y_test))"
   ]
  },
  {
   "cell_type": "code",
   "execution_count": 0,
   "metadata": {
    "colab": {},
    "colab_type": "code",
    "id": "P2bU0Cb0G2Cx"
   },
   "outputs": [],
   "source": []
  },
  {
   "cell_type": "code",
   "execution_count": 0,
   "metadata": {
    "colab": {},
    "colab_type": "code",
    "id": "IER9l_181kqc"
   },
   "outputs": [],
   "source": [
    "predictions = [class_names[i] for i in Y_test_pred.astype(int)]\n",
    "np.savetxt(r\"drive/CIFAR10/preds.csv\", predictions, fmt = \"%s\")"
   ]
  },
  {
   "cell_type": "markdown",
   "metadata": {
    "colab_type": "text",
    "id": "LIzk8NJy1d0d"
   },
   "source": []
  },
  {
   "cell_type": "markdown",
   "metadata": {
    "colab_type": "text",
    "id": "YcuPsRruvotf"
   },
   "source": [
    "Num_Iters Train_Score Test_Score\n",
    "200             0.35               0.30\n",
    "500             0.54               0.40\n"
   ]
  },
  {
   "cell_type": "code",
   "execution_count": 0,
   "metadata": {
    "colab": {},
    "colab_type": "code",
    "id": "3uHoXcBA9vj7"
   },
   "outputs": [],
   "source": []
  },
  {
   "cell_type": "code",
   "execution_count": 0,
   "metadata": {
    "colab": {},
    "colab_type": "code",
    "id": "T_zCThVsHbZc"
   },
   "outputs": [],
   "source": []
  },
  {
   "cell_type": "code",
   "execution_count": 0,
   "metadata": {
    "colab": {},
    "colab_type": "code",
    "id": "yv8jiqTT9Enu"
   },
   "outputs": [],
   "source": []
  },
  {
   "cell_type": "code",
   "execution_count": 0,
   "metadata": {
    "colab": {},
    "colab_type": "code",
    "id": "6XEYRk1P9Phs"
   },
   "outputs": [],
   "source": []
  },
  {
   "cell_type": "code",
   "execution_count": 0,
   "metadata": {
    "colab": {},
    "colab_type": "code",
    "id": "i0ffTc6uTDTe"
   },
   "outputs": [],
   "source": []
  },
  {
   "cell_type": "code",
   "execution_count": 0,
   "metadata": {
    "colab": {},
    "colab_type": "code",
    "id": "f64vYeAnTnaQ"
   },
   "outputs": [],
   "source": []
  },
  {
   "cell_type": "code",
   "execution_count": 0,
   "metadata": {
    "colab": {},
    "colab_type": "code",
    "id": "jKgn9bxgTzZo"
   },
   "outputs": [],
   "source": []
  },
  {
   "cell_type": "code",
   "execution_count": 0,
   "metadata": {
    "colab": {},
    "colab_type": "code",
    "id": "yLcPToGdT0bL"
   },
   "outputs": [],
   "source": []
  }
 ],
 "metadata": {
  "accelerator": "GPU",
  "colab": {
   "collapsed_sections": [],
   "name": "CIFAR10_Colab_Score_40.ipynb",
   "provenance": [],
   "version": "0.3.2"
  },
  "kernelspec": {
   "display_name": "Python 3",
   "language": "python",
   "name": "python3"
  },
  "language_info": {
   "codemirror_mode": {
    "name": "ipython",
    "version": 3
   },
   "file_extension": ".py",
   "mimetype": "text/x-python",
   "name": "python",
   "nbconvert_exporter": "python",
   "pygments_lexer": "ipython3",
   "version": "3.6.4"
  }
 },
 "nbformat": 4,
 "nbformat_minor": 1
}
